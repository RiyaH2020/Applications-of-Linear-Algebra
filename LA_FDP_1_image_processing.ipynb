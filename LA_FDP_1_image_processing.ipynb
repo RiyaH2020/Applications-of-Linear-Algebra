{
 "cells": [
  {
   "cell_type": "markdown",
   "id": "9ccc4dcc-aa16-41eb-9c39-fec7790abe68",
   "metadata": {},
   "source": [
    "# Matrix–Vector and Matrix–Matrix Multiplication\n",
    "**Topic:** Applications in Data Science and Machine Learning using MNIST\n",
    "\n",
    "In this notebook, we will:\n",
    "- Use tiny \\(4 x 4\\) patches from MNIST digit images\n",
    "- Demonstrate **matrix–vector** and **matrix–matrix** multiplication\n",
    "- Show how these operations appear in image processing and ML\n",
    "\n",
    "We’ll keep matrices small for clarity, but the same ideas apply to large images and datasets.\n"
   ]
  },
  {
   "cell_type": "markdown",
   "id": "9ff98779-07de-4e3b-b9da-123870b8bab5",
   "metadata": {},
   "source": [
    "## About the MNIST Dataset\n",
    "\n",
    "We will use the **MNIST** dataset — a famous collection of handwritten digits (0–9).  \n",
    "- Each image is **28 × 28 pixels**, in grayscale.  \n",
    "- Pixel values range from **0 (white)** to **255 (black)**.  \n",
    "- There are **70,000 images** in total (60k for training, 10k for testing).\n",
    "\n",
    "In our examples, we won’t use the full dataset — just **one small patch** (like \\(4 x 4\\)) from a single image.\n"
   ]
  },
  {
   "cell_type": "code",
   "execution_count": 5,
   "id": "327e87e7-4549-4d85-81eb-35b001528025",
   "metadata": {},
   "outputs": [
    {
     "name": "stdout",
     "output_type": "stream",
     "text": [
      "Loaded MNIST via sklearn.fetch_openml — shape (70000, 784)\n"
     ]
    }
   ],
   "source": [
    "# Step 1 — Setup: imports and MNIST loader\n",
    "import numpy as np\n",
    "import matplotlib.pyplot as plt\n",
    "from matplotlib import gridspec\n",
    "\n",
    "try:\n",
    "    from sklearn.datasets import fetch_openml\n",
    "    mnist = fetch_openml('mnist_784', version=1, as_frame=False)\n",
    "    X_all = mnist['data']\n",
    "    y_all = mnist['target'].astype(int)\n",
    "    print('Loaded MNIST via sklearn.fetch_openml — shape', X_all.shape)\n",
    "except Exception:\n",
    "    try:\n",
    "        from tensorflow.keras.datasets import mnist as k_mnist\n",
    "        (x_tr, y_tr), (x_te, y_te) = k_mnist.load_data()\n",
    "        X_all = np.vstack([x_tr.reshape(-1, 28*28), x_te.reshape(-1, 28*28)])\n",
    "        y_all = np.hstack([y_tr, y_te])\n",
    "        print('Loaded MNIST via keras.datasets.mnist — shape', X_all.shape)\n",
    "    except Exception:\n",
    "        raise RuntimeError('Could not load MNIST. Please install scikit-learn or tensorflow.')\n",
    "\n",
    "# Helper: display full image and zoomed patch\n",
    "def show_image_and_patch(img28, patch_coords=(0,0), patch_size=4, title=None):\n",
    "    r, c = patch_coords\n",
    "    patch = img28[r:r+patch_size, c:c+patch_size]\n",
    "    fig = plt.figure(figsize=(6,3))\n",
    "    gs = gridspec.GridSpec(1,2, width_ratios=[1.2,1])\n",
    "\n",
    "    ax0 = fig.add_subplot(gs[0])\n",
    "    ax0.imshow(img28, cmap='gray', interpolation='nearest')\n",
    "    ax0.set_title('28×28 MNIST image' + (f' — {title}' if title else ''))\n",
    "    ax0.axis('off')\n",
    "\n",
    "    ax1 = fig.add_subplot(gs[1])\n",
    "    ax1.imshow(patch, cmap='gray', interpolation='nearest')\n",
    "    ax1.set_title(f'Patch {patch_size}×{patch_size} at {patch_coords}')\n",
    "    ax1.axis('off')\n",
    "    plt.show()\n"
   ]
  },
  {
   "cell_type": "markdown",
   "id": "7a27c25d-85c1-4286-8663-bd75466b9bcb",
   "metadata": {},
   "source": [
    "## Why see an image as a matrix?\n",
    "\n",
    "A grayscale image is just a **grid of numbers** — each number shows how dark a pixel is.  \n",
    "For example, a 28 × 28 MNIST digit is a **28 × 28 matrix** \\( X \\), where:\n",
    "\n",
    "- $\\( X_{ij} \\$) = pixel value at row \\( i \\), column \\( j \\)\n",
    "- Values are between **0 (white)** and **255 (black)**\n",
    "\n",
    "Once we think of images as matrices, **matrix operations** become powerful tools:\n",
    "- **Matrix–vector multiplication** → Flatten an image into a vector to feed into a neural network layer.\n",
    "- **Matrix–matrix multiplication** → Transform rows or columns (e.g., scaling brightness, blurring, edge detection).\n",
    "- **Linear transformations** → Apply filters, rotate, mix pixel values — all common in image processing and ML.\n",
    "\n",
    "We will start from a **small 4 × 4 patch** of an MNIST digit to keep the math clear,  \n",
    "and apply matrix operations step-by-step to see how the numbers (and the image) change.\n"
   ]
  },
  {
   "cell_type": "code",
   "execution_count": 12,
   "id": "9868627e-1697-42be-b54d-2766c9f0fc43",
   "metadata": {},
   "outputs": [
    {
     "data": {
      "image/png": "[encoded data removed]",
      "text/plain": [
       "<Figure size 600x300 with 2 Axes>"
      ]
     },
     "metadata": {},
     "output_type": "display_data"
    },
    {
     "name": "stdout",
     "output_type": "stream",
     "text": [
      "4×4 patch matrix:\n",
      "[[  1 154 253  90]\n",
      " [  0 139 253 190]\n",
      " [  0  11 190 253]\n",
      " [  0   0  35 241]]\n"
     ]
    }
   ],
   "source": [
    "# Step 2 — Pick one image and extract a 4×4 patch\n",
    "\n",
    "# Pick the first image (digit '5' in MNIST, usually)\n",
    "img = X_all[0].reshape(28, 28)  # reshape from 784 → 28×28\n",
    "\n",
    "# Coordinates of the top-left corner of the patch\n",
    "patch_coords = (10, 10)  # somewhere in the middle of the image\n",
    "patch_size = 4\n",
    "\n",
    "# Extract the patch as a matrix\n",
    "r, c = patch_coords\n",
    "patch_matrix = img[r:r+patch_size, c:c+patch_size]\n",
    "\n",
    "# Show the image + patch\n",
    "show_image_and_patch(img, patch_coords=patch_coords, patch_size=patch_size, title=f\"Digit {y_all[0]}\")\n",
    "\n",
    "# Print the matrix values\n",
    "print(\"4×4 patch matrix:\")\n",
    "print(patch_matrix)\n"
   ]
  },
  {
   "cell_type": "markdown",
   "id": "045d7ee2-4d69-466a-990d-712cf8e97538",
   "metadata": {},
   "source": [
    "### Vectorizing an Image Patch\n",
    "\n",
    "- Each image patch (here 4×4) is a **matrix of pixel intensities**.  \n",
    "- To perform linear algebra operations like **dot products, filtering, or transformations**, we often **vectorize** the patch:\n",
    "  - Flatten the 2D matrix into a 1D column vector.\n",
    "  - Shape goes from `(4,4)` → `(16,1)`.\n",
    "- This allows us to represent the patch as a **single vector**, making it compatible with:\n",
    "  - Linear transformations (`A @ x`)  \n",
    "  - Feature extraction for ML models  \n",
    "  - Convolution-like operations in a simplified, linear algebra context\n"
   ]
  },
  {
   "cell_type": "code",
   "execution_count": 61,
   "id": "a40bb1a5-5606-497f-b327-32367f5d5d00",
   "metadata": {},
   "outputs": [
    {
     "name": "stdout",
     "output_type": "stream",
     "text": [
      "Vectorized 4×4 patch (16x1 column vector):\n",
      "[[  1]\n",
      " [154]\n",
      " [253]\n",
      " [ 90]\n",
      " [  0]\n",
      " [139]\n",
      " [253]\n",
      " [190]\n",
      " [  0]\n",
      " [ 11]\n",
      " [190]\n",
      " [253]\n",
      " [  0]\n",
      " [  0]\n",
      " [ 35]\n",
      " [241]]\n",
      "Shape: (16, 1)\n"
     ]
    }
   ],
   "source": [
    "# Flatten the 4x4 patch into a vector\n",
    "patch_vector = patch_matrix.reshape(-1, 1)  # shape (16,1)\n",
    "\n",
    "print(\"Vectorized 4×4 patch (16x1 column vector):\")\n",
    "print(patch_vector)\n",
    "print(\"Shape:\", patch_vector.shape)\n"
   ]
  },
  {
   "cell_type": "markdown",
   "id": "0e0eabee-dc3f-4b4c-8463-3e487ebdd55a",
   "metadata": {},
   "source": [
    "## Matrix–Vector Multiplication in Image Processing\n",
    "\n",
    "If we take our 4 × 4 patch \\( P \\), we can treat each **row** of pixels as a vector.  \n",
    "\n",
    "Matrix–vector multiplication means:\n",
    "\n",
    "$$\n",
    "\\mathbf{y} = P \\cdot \\mathbf{v}\n",
    "$$\n",
    "\n",
    "Where:\n",
    "- \\( P \\) is our **4 × 4 patch matrix**.\n",
    "- $\\ \\mathbf{v} \\ $ is a **4 × 1 column vector**.\n",
    "\n",
    "**What does this do?**\n",
    "- Each entry of \\( \\mathbf{y} \\) is a **weighted sum** of the row’s pixel values.\n",
    "- By choosing different \\( \\mathbf{v} \\), we can **emphasize** or **reduce** certain columns.\n",
    "- This is like applying a **filter** in one direction (horizontal influence).\n",
    "\n",
    "**In real-world ML:**\n",
    "- Neural networks often flatten an image into a long vector and multiply by a weight vector or matrix.\n",
    "- Early layers can be thought of as many such weighted sums, detecting simple patterns like edges or blobs.\n"
   ]
  },
  {
   "cell_type": "code",
   "execution_count": 22,
   "id": "d7986808-0183-418b-b2cf-1d3f1f6d0ff7",
   "metadata": {},
   "outputs": [
    {
     "name": "stdout",
     "output_type": "stream",
     "text": [
      "Weight vector v:\n",
      "[[ 1. ]\n",
      " [-1. ]\n",
      " [ 0.5]\n",
      " [ 0. ]]\n",
      "\n",
      "Result y = P · v:\n",
      "[[-26.5]\n",
      " [-12.5]\n",
      " [ 84. ]\n",
      " [ 17.5]]\n"
     ]
    },
    {
     "data": {
      "image/png": "[encoded data removed]",
      "text/plain": [
       "<Figure size 600x300 with 2 Axes>"
      ]
     },
     "metadata": {},
     "output_type": "display_data"
    }
   ],
   "source": [
    "# Step 3 — Matrix–Vector multiplication on the patch\n",
    "\n",
    "# Define a weight vector (4x1) — try different values for fun\n",
    "v = np.array([1, -1, 0.5, 0]).reshape(4, 1)\n",
    "\n",
    "# Perform matrix–vector multiplication\n",
    "y = patch_matrix @ v  # same as np.dot(patch_matrix, v)\n",
    "\n",
    "# Show results\n",
    "print(\"Weight vector v:\")\n",
    "print(v)\n",
    "\n",
    "print(\"\\nResult y = P · v:\")\n",
    "print(y)\n",
    "\n",
    "# Optional: visualize original patch vs. transformed column\n",
    "plt.figure(figsize=(6,3))\n",
    "\n",
    "plt.subplot(1,2,1)\n",
    "plt.imshow(patch_matrix, cmap='gray', interpolation='nearest')\n",
    "plt.title(\"Original 4×4 Patch\")\n",
    "plt.axis('off')\n",
    "\n",
    "plt.subplot(1,2,2)\n",
    "plt.imshow(y, cmap='gray', interpolation='nearest', aspect='auto')\n",
    "plt.title(\"Result of P·v\")\n",
    "plt.axis('off')\n",
    "\n",
    "plt.show()\n"
   ]
  },
  {
   "cell_type": "markdown",
   "id": "9aa07207-b7d0-45bc-b446-7cf7c14f226a",
   "metadata": {},
   "source": [
    "## Seeing the Effect of Different Weight Vectors\n",
    "\n",
    "In matrix–vector multiplication \\( \\mathbf{y} = P \\cdot \\mathbf{v} \\):\n",
    "\n",
    "- \\( P \\) is our **4 × 4 patch**.\n",
    "- $\\\\mathbf{v} \\$ is a **4 × 1 weight vector**.\n",
    "\n",
    "Each value in $\\ \\mathbf{v} \\$ tells us **how much to emphasize each column** of pixels.\n",
    "\n",
    "When we try different $\\ \\mathbf{v} \\$ values:\n",
    "\n",
    "1. **[1, 0, 0, 0]** → Picks only the **first column** of the patch.  \n",
    "2. **[1, 1, 1, 1]** → Adds all columns equally (averaging horizontally).  \n",
    "3. **[1, -1, 0, 0]** → Finds the **difference** between the first two columns (detects vertical edges).  \n",
    "4. **[0.5, 0.5, -0.5, -0.5]** → Averages the first two columns, subtracts the last two (more complex edge/contrast detection).\n",
    "\n",
    "**Why this matters for Data Science & ML:**\n",
    "- Neural networks use this idea in **filters** (also called kernels) to detect patterns like edges, corners, or textures.\n",
    "- Even simple linear algebra operations can reveal structure in data — the building blocks of image recognition.\n",
    "\n",
    "Think of $\\ \\mathbf{v} \\$ as a set of **sliders** that tune which parts of an image’s data are highlighted or suppressed.\n"
   ]
  },
  {
   "cell_type": "code",
   "execution_count": 50,
   "id": "3c42fdda-6e80-482f-a7f8-3da41c571a25",
   "metadata": {},
   "outputs": [
    {
     "name": "stdout",
     "output_type": "stream",
     "text": [
      "[[  1 154 253  90]\n",
      " [  0 139 253 190]\n",
      " [  0  11 190 253]\n",
      " [  0   0  35 241]]\n"
     ]
    },
    {
     "data": {
      "image/png": "[encoded data removed]",
      "text/plain": [
       "<Figure size 1200x300 with 5 Axes>"
      ]
     },
     "metadata": {},
     "output_type": "display_data"
    }
   ],
   "source": [
    "# Step 3b — Multiple weight vectors demonstration\n",
    "\n",
    "# Try a few different weight vectors\n",
    "weight_vectors = [\n",
    "    np.array([1, 0, 0, 0]).reshape(4, 1),      # Pick only first column\n",
    "    np.array([1, 1, 1, 1]).reshape(4, 1),      # Sum all columns equally\n",
    "    np.array([1, -1, 0, 0]).reshape(4, 1),     # Difference between col1 and col2\n",
    "    np.array([0.5, 0.5, -0.5, -0.5]).reshape(4, 1)  # Average first two, subtract last two\n",
    "]\n",
    "\n",
    "fig, axes = plt.subplots(1, len(weight_vectors)+1, figsize=(12,3))\n",
    "\n",
    "# Show original patch\n",
    "axes[0].imshow(patch_matrix, cmap='gray', interpolation='nearest')\n",
    "axes[0].set_title(\"Original Patch\")\n",
    "axes[0].axis('off')\n",
    "print(patch_matrix)\n",
    "# Apply each weight vector and show result\n",
    "for i, v in enumerate(weight_vectors, start=1):\n",
    "    y = patch_matrix @ v            # 4x1 result\n",
    "    y_display = np.tile(y, (1, 4))  # Repeat the column 4 times for better visualization\n",
    "    axes[i].imshow(y_display, cmap='gray', interpolation='nearest', aspect='auto')\n",
    "    axes[i].set_title(f\"v = {v.flatten()}\")\n",
    "    axes[i].axis('off')\n",
    "\n",
    "plt.show()\n"
   ]
  }
 ],
 "metadata": {
  "kernelspec": {
   "display_name": "Python 3 (ipykernel)",
   "language": "python",
   "name": "python3"
  },
  "language_info": {
   "codemirror_mode": {
    "name": "ipython",
    "version": 3
   },
   "file_extension": ".py",
   "mimetype": "text/x-python",
   "name": "python",
   "nbconvert_exporter": "python",
   "pygments_lexer": "ipython3",
   "version": "3.12.7"
  }
 },
 "nbformat": 4,
 "nbformat_minor": 5
}
