{
 "cells": [
  {
   "cell_type": "markdown",
   "id": "b39d9102-7192-4095-8e6b-d04e11d18fd4",
   "metadata": {},
   "source": [
    "## Dimensionality, Rank, and Regression\n",
    "\n",
    "In this demo, we will explore concepts from linear algebra such as **subspaces, linear independence, span, dimension, and rank** using a real dataset: the **California Housing dataset**. \n",
    "\n",
    "We will connect these concepts to **regression**:\n",
    "- Think of our regression problem as solving \\(Ax = y\\), where \\(A\\) is our feature matrix, \\(x\\) are the coefficients, and \\(y\\) is the target.\n",
    "- We'll show how the **rank** of \\(A\\) affects the solution and accuracy.\n",
    "- We'll also see how **dimensionality reduction** (using SVD) can impact prediction performance.\n",
    "\n",
    "Let's start by loading the dataset and visualizing its basic structure.\n"
   ]
  },
  {
   "cell_type": "markdown",
   "id": "476f40be-b5f4-4751-b29f-c0d58600a6f8",
   "metadata": {},
   "source": [
    "### Target Variable: `MedHouseVal`\n",
    "\n",
    "In the California Housing dataset, the **target variable** is **`MedHouseVal`**, which represents the **median house value (in units of 100,000 USD) for households within a block group**.  \n",
    "\n",
    "- Each **block group** is the smallest geographical unit for which the U.S. Census Bureau publishes sample data (typically covering a population of 600–3,000 people).  \n",
    "- The target is a **continuous numerical variable**, making this a **regression problem**.  \n",
    "- Values are scaled such that, for example, a `MedHouseVal` of **2.5** corresponds to an actual median house value of **$250,000**.  \n",
    "\n",
    "Our goal when modeling this dataset is to **predict the median house value** given the other features (such as median income, average number of rooms, latitude/longitude, etc.).\n"
   ]
  },
  {
   "cell_type": "code",
   "execution_count": 25,
   "id": "4ca3d06b-51ee-43da-a8fe-52777d629ddb",
   "metadata": {},
   "outputs": [
    {
     "name": "stdout",
     "output_type": "stream",
     "text": [
      "Feature matrix shape (n_samples, n_features): (20640, 8)\n",
      "Target vector shape: (20640,)\n"
     ]
    },
    {
     "data": {
      "text/html": [
       "<div>\n",
       "<style scoped>\n",
       "    .dataframe tbody tr th:only-of-type {\n",
       "        vertical-align: middle;\n",
       "    }\n",
       "\n",
       "    .dataframe tbody tr th {\n",
       "        vertical-align: top;\n",
       "    }\n",
       "\n",
       "    .dataframe thead th {\n",
       "        text-align: right;\n",
       "    }\n",
       "</style>\n",
       "<table border=\"1\" class=\"dataframe\">\n",
       "  <thead>\n",
       "    <tr style=\"text-align: right;\">\n",
       "      <th></th>\n",
       "      <th>MedInc</th>\n",
       "      <th>HouseAge</th>\n",
       "      <th>AveRooms</th>\n",
       "      <th>AveBedrms</th>\n",
       "      <th>Population</th>\n",
       "      <th>AveOccup</th>\n",
       "      <th>Latitude</th>\n",
       "      <th>Longitude</th>\n",
       "      <th>MedHouseVal</th>\n",
       "    </tr>\n",
       "  </thead>\n",
       "  <tbody>\n",
       "    <tr>\n",
       "      <th>0</th>\n",
       "      <td>8.3252</td>\n",
       "      <td>41.0</td>\n",
       "      <td>6.984127</td>\n",
       "      <td>1.023810</td>\n",
       "      <td>322.0</td>\n",
       "      <td>2.555556</td>\n",
       "      <td>37.88</td>\n",
       "      <td>-122.23</td>\n",
       "      <td>4.526</td>\n",
       "    </tr>\n",
       "    <tr>\n",
       "      <th>1</th>\n",
       "      <td>8.3014</td>\n",
       "      <td>21.0</td>\n",
       "      <td>6.238137</td>\n",
       "      <td>0.971880</td>\n",
       "      <td>2401.0</td>\n",
       "      <td>2.109842</td>\n",
       "      <td>37.86</td>\n",
       "      <td>-122.22</td>\n",
       "      <td>3.585</td>\n",
       "    </tr>\n",
       "    <tr>\n",
       "      <th>2</th>\n",
       "      <td>7.2574</td>\n",
       "      <td>52.0</td>\n",
       "      <td>8.288136</td>\n",
       "      <td>1.073446</td>\n",
       "      <td>496.0</td>\n",
       "      <td>2.802260</td>\n",
       "      <td>37.85</td>\n",
       "      <td>-122.24</td>\n",
       "      <td>3.521</td>\n",
       "    </tr>\n",
       "    <tr>\n",
       "      <th>3</th>\n",
       "      <td>5.6431</td>\n",
       "      <td>52.0</td>\n",
       "      <td>5.817352</td>\n",
       "      <td>1.073059</td>\n",
       "      <td>558.0</td>\n",
       "      <td>2.547945</td>\n",
       "      <td>37.85</td>\n",
       "      <td>-122.25</td>\n",
       "      <td>3.413</td>\n",
       "    </tr>\n",
       "    <tr>\n",
       "      <th>4</th>\n",
       "      <td>3.8462</td>\n",
       "      <td>52.0</td>\n",
       "      <td>6.281853</td>\n",
       "      <td>1.081081</td>\n",
       "      <td>565.0</td>\n",
       "      <td>2.181467</td>\n",
       "      <td>37.85</td>\n",
       "      <td>-122.25</td>\n",
       "      <td>3.422</td>\n",
       "    </tr>\n",
       "  </tbody>\n",
       "</table>\n",
       "</div>"
      ],
      "text/plain": [
       "   MedInc  HouseAge  AveRooms  AveBedrms  Population  AveOccup  Latitude  \\\n",
       "0  8.3252      41.0  6.984127   1.023810       322.0  2.555556     37.88   \n",
       "1  8.3014      21.0  6.238137   0.971880      2401.0  2.109842     37.86   \n",
       "2  7.2574      52.0  8.288136   1.073446       496.0  2.802260     37.85   \n",
       "3  5.6431      52.0  5.817352   1.073059       558.0  2.547945     37.85   \n",
       "4  3.8462      52.0  6.281853   1.081081       565.0  2.181467     37.85   \n",
       "\n",
       "   Longitude  MedHouseVal  \n",
       "0    -122.23        4.526  \n",
       "1    -122.22        3.585  \n",
       "2    -122.24        3.521  \n",
       "3    -122.25        3.413  \n",
       "4    -122.25        3.422  "
      ]
     },
     "execution_count": 25,
     "metadata": {},
     "output_type": "execute_result"
    }
   ],
   "source": [
    "# Load California Housing dataset\n",
    "from sklearn.datasets import fetch_california_housing\n",
    "import pandas as pd\n",
    "import numpy as np\n",
    "\n",
    "# Fetch dataset\n",
    "data = fetch_california_housing(as_frame=True)\n",
    "df = data.frame\n",
    "\n",
    "# Features and target\n",
    "X = df.drop(columns=['MedHouseVal']).values  # feature matrix\n",
    "y = df['MedHouseVal'].values                 # target vector\n",
    "\n",
    "# Quick overview\n",
    "print(\"Feature matrix shape (n_samples, n_features):\", X.shape)\n",
    "print(\"Target vector shape:\", y.shape)\n",
    "# Display first 5 rows in a Markdown-style table\n",
    "df.head()\n"
   ]
  },
  {
   "cell_type": "markdown",
   "id": "e11c5786-3a0e-4b28-bfa9-e9c60b90eea7",
   "metadata": {},
   "source": [
    "## Linear Regression and the Role of Rank\n",
    "\n",
    "Linear regression solves the system:\n",
    "\n",
    "$$\n",
    "Ax = y\n",
    "$$\n",
    "\n",
    "where:\n",
    "\n",
    "- \\(A\\) is the **feature matrix** (our \\(X\\)),\n",
    "- \\(x\\) is the vector of **coefficients**,\n",
    "- \\(y\\) is the **target**.\n",
    "\n",
    "Key points to highlight:\n",
    "\n",
    "- The **rank** of \\(A\\) tells us about **linear independence** of features.\n",
    "  - Full rank: all features provide independent information.\n",
    "  - Reduced rank: some features are linear combinations of others (redundancy).\n",
    "- Rank deficiency can affect the **stability of regression** and the uniqueness of the solution.\n",
    "\n",
    "Next, we will compute the rank of our feature matrix and visualize it.\n"
   ]
  },
  {
   "cell_type": "code",
   "execution_count": 8,
   "id": "ae9ec2fe-3132-4080-b4ae-6da9979b98c6",
   "metadata": {},
   "outputs": [
    {
     "name": "stdout",
     "output_type": "stream",
     "text": [
      "Number of features: 8\n",
      "Rank of feature matrix: 8\n",
      "All features are linearly independent.\n"
     ]
    }
   ],
   "source": [
    "# Compute rank of feature matrix\n",
    "from numpy.linalg import matrix_rank\n",
    "\n",
    "rank_X = matrix_rank(X)\n",
    "n_features = X.shape[1]\n",
    "\n",
    "print(f\"Number of features: {n_features}\")\n",
    "print(f\"Rank of feature matrix: {rank_X}\")\n",
    "\n",
    "if rank_X < n_features:\n",
    "    print(\"Some features are linearly dependent (redundant information).\")\n",
    "else:\n",
    "    print(\"All features are linearly independent.\")\n"
   ]
  },
  {
   "cell_type": "markdown",
   "id": "ced4073c-a2ca-4272-afa5-e39f1bd1e5d6",
   "metadata": {},
   "source": [
    "## Dimensionality Reduction using SVD\n",
    "\n",
    "Even though our features are independent, we can **reduce dimensions** using **Singular Value Decomposition (SVD)**:\n",
    "\n",
    "$$\n",
    "X = U \\Sigma V^T\n",
    "$$\n",
    "\n",
    "- \\(U\\) and \\(V\\) are orthogonal matrices.\n",
    "- $(\\Sigma)$ contains the **singular values**, which indicate the “importance” of each dimension.\n",
    "- By keeping only the top $(k < \\text{rank}(X)$) singular values, we reduce dimensions while retaining most of the information.\n",
    "\n",
    "We will explore how reducing dimensions affects **regression accuracy**.\n"
   ]
  },
  {
   "cell_type": "code",
   "execution_count": 11,
   "id": "b08090f9-7c8b-4240-a0c1-24dab886142f",
   "metadata": {},
   "outputs": [
    {
     "data": {
      "image/png": "[encoded data removed]",
      "text/plain": [
       "<Figure size 800x500 with 1 Axes>"
      ]
     },
     "metadata": {},
     "output_type": "display_data"
    }
   ],
   "source": [
    "from sklearn.linear_model import LinearRegression\n",
    "from sklearn.model_selection import train_test_split\n",
    "from sklearn.metrics import mean_squared_error\n",
    "import matplotlib.pyplot as plt\n",
    "\n",
    "# Split data\n",
    "X_train, X_test, y_train, y_test = train_test_split(X, y, test_size=0.2, random_state=42)\n",
    "\n",
    "# Perform SVD\n",
    "U, S, VT = np.linalg.svd(X_train, full_matrices=False)\n",
    "\n",
    "# Test regression for different reduced dimensions\n",
    "mse_list = []\n",
    "k_values = range(1, X_train.shape[1]+1)\n",
    "\n",
    "for k in k_values:\n",
    "    # Project train and test onto top k singular vectors\n",
    "    X_train_k = X_train @ VT[:k, :].T\n",
    "    X_test_k = X_test @ VT[:k, :].T\n",
    "    \n",
    "    # Train regression\n",
    "    lr = LinearRegression().fit(X_train_k, y_train)\n",
    "    \n",
    "    # Predict and compute MSE\n",
    "    y_pred = lr.predict(X_test_k)\n",
    "    mse = mean_squared_error(y_test, y_pred)\n",
    "    mse_list.append(mse)\n",
    "\n",
    "# Plot MSE vs number of dimensions\n",
    "plt.figure(figsize=(8,5))\n",
    "plt.plot(k_values, mse_list, marker='o')\n",
    "plt.xlabel(\"Number of Dimensions (k)\")\n",
    "plt.ylabel(\"Mean Squared Error\")\n",
    "plt.title(\"Effect of Dimensionality Reduction on Regression Accuracy\")\n",
    "plt.grid(True)\n",
    "plt.show()"
   ]
  },
  {
   "cell_type": "markdown",
   "id": "6eca2a1e-3b54-4dec-88f2-89843510ca94",
   "metadata": {},
   "source": [
    "## Predicting a New House with Full vs Reduced Rank\n",
    "\n",
    "Now that we've seen how dimensionality reduction affects overall regression accuracy, let's make it more tangible with a **single new example**:\n",
    "\n",
    "- We will pick a **new house** (a sample from the test set).\n",
    "- We'll predict its **median house value** using:\n",
    "  1. **Full rank (all 8 dimensions)** — uses all independent features.\n",
    "  2. **Reduced rank (6 dimensions)** — uses only the top 6 singular vectors, losing some information.\n",
    "- Comparing these predictions will illustrate **how reducing dimensions can change predictions** even for a single data point.\n"
   ]
  },
  {
   "cell_type": "code",
   "execution_count": 14,
   "id": "30f6c5b7-0a18-4f0d-bdef-9b47c7e42868",
   "metadata": {},
   "outputs": [
    {
     "name": "stdout",
     "output_type": "stream",
     "text": [
      "True target value: 3.746\n",
      "Prediction using full rank (8): 2.157\n",
      "Prediction using reduced rank (6): 2.079\n"
     ]
    }
   ],
   "source": [
    "# Pick a random sample from the test set\n",
    "np.random.seed(42)\n",
    "sample_idx = np.random.randint(0, X_test.shape[0])\n",
    "x_sample = X_test[sample_idx].reshape(1, -1)\n",
    "y_true = y_test[sample_idx]\n",
    "\n",
    "# --- Prediction using full rank (8) ---\n",
    "X_train_full = X_train @ VT[:8, :].T\n",
    "x_sample_full = x_sample @ VT[:8, :].T\n",
    "lr_full = LinearRegression().fit(X_train_full, y_train)\n",
    "y_pred_full = lr_full.predict(x_sample_full)\n",
    "\n",
    "# --- Prediction using reduced rank (6) ---\n",
    "X_train_reduced = X_train @ VT[:6, :].T\n",
    "x_sample_reduced = x_sample @ VT[:6, :].T\n",
    "lr_reduced = LinearRegression().fit(X_train_reduced, y_train)\n",
    "y_pred_reduced = lr_reduced.predict(x_sample_reduced)\n",
    "\n",
    "# Display results\n",
    "print(f\"True target value: {y_true:.3f}\")\n",
    "print(f\"Prediction using full rank (8): {y_pred_full[0]:.3f}\")\n",
    "print(f\"Prediction using reduced rank (6): {y_pred_reduced[0]:.3f}\")\n"
   ]
  },
  {
   "cell_type": "markdown",
   "id": "c6455ed7-ded8-429b-b0c2-64daf7069db6",
   "metadata": {},
   "source": [
    "## Predicting a Single New House: Full vs Reduced Rank\n",
    "\n",
    "Let's examine a **concrete example** using a single house from our test set:\n",
    "\n",
    "- We will predict the **median house value** of this new house using:\n",
    "  1. **Full rank (8 dimensions)** — using all independent features.\n",
    "  2. **Reduced rank (7 dimensions)** — removing the smallest singular value.\n",
    "  \n",
    "- This will help us **see the effect of dimensionality reduction** on a real prediction.\n",
    "\n",
    "- As we will see, **sometimes reducing rank can improve predictions** by filtering out noise and stabilizing the model — a key insight in real-world datasets like California Housing.\n"
   ]
  },
  {
   "cell_type": "code",
   "execution_count": 17,
   "id": "fcbbbf66-2fef-411e-b979-0bfe69687b74",
   "metadata": {},
   "outputs": [
    {
     "name": "stdout",
     "output_type": "stream",
     "text": [
      "True target value: 3.746\n",
      "Prediction using full rank (8): 2.157\n",
      "Prediction using reduced rank (7): 2.323\n"
     ]
    }
   ],
   "source": [
    "# Pick the same random sample from the test set\n",
    "x_sample = X_test[sample_idx].reshape(1, -1)\n",
    "y_true = y_test[sample_idx]\n",
    "\n",
    "# --- Prediction using full rank (8) ---\n",
    "x_sample_rank8 = x_sample @ VT[:8, :].T\n",
    "lr_full = LinearRegression().fit(X_train @ VT[:8, :].T, y_train)\n",
    "y_pred_rank8 = lr_full.predict(x_sample_rank8)\n",
    "\n",
    "# --- Prediction using reduced rank (7) ---\n",
    "x_sample_rank7 = x_sample @ VT[:7, :].T\n",
    "lr_reduced = LinearRegression().fit(X_train @ VT[:7, :].T, y_train)\n",
    "y_pred_rank7 = lr_reduced.predict(x_sample_rank7)\n",
    "\n",
    "# Display results\n",
    "print(f\"True target value: {y_true:.3f}\")\n",
    "print(f\"Prediction using full rank (8): {y_pred_rank8[0]:.3f}\")\n",
    "print(f\"Prediction using reduced rank (7): {y_pred_rank7[0]:.3f}\")\n"
   ]
  },
  {
   "cell_type": "markdown",
   "id": "c9e4775d-9f3c-42c6-a895-729592ab4750",
   "metadata": {},
   "source": [
    "## Summary: Dimensionality, Rank, and Regression\n",
    "\n",
    "1. **Linear algebra concepts in regression:**\n",
    "   - The **rank** of the feature matrix tells us about **linear independence** of features.\n",
    "   - Full rank ensures all feature information is available, but doesn’t guarantee the best predictions.\n",
    "\n",
    "2. **Dimensionality reduction via SVD:**\n",
    "   - Keeps the **most informative directions** (largest singular values).\n",
    "   - Removes **less important dimensions** that often capture noise or redundancy.\n",
    "   - Acts as **implicit regularization**, improving stability and generalization.\n",
    "\n",
    "3. **Trade-off: Allowing some error**\n",
    "   - Reducing dimensions may **increase error on individual samples**, because some signal is lost.\n",
    "   - This is intentional: we **accept small errors locally** to **reduce overfitting and mitigate the curse of dimensionality**.\n",
    "   - The overall model becomes **more robust and reliable** across the dataset.\n",
    "\n",
    "4. **Practical insight:**\n",
    "   - More features or higher rank doesn’t always mean better predictions.\n",
    "   - A carefully chosen lower rank can improve generalization, even if some pointwise predictions get worse.\n",
    "\n",
    "Takeaway: **Dimensionality reduction is about balancing accuracy and stability**, making linear algebra concepts like rank, span, and independence directly relevant for real-world regression tasks.\n"
   ]
  },
  {
   "cell_type": "code",
   "execution_count": null,
   "id": "740e9853-5f19-4550-af4f-987c40150af6",
   "metadata": {},
   "outputs": [],
   "source": []
  }
 ],
 "metadata": {
  "kernelspec": {
   "display_name": "Python 3 (ipykernel)",
   "language": "python",
   "name": "python3"
  },
  "language_info": {
   "codemirror_mode": {
    "name": "ipython",
    "version": 3
   },
   "file_extension": ".py",
   "mimetype": "text/x-python",
   "name": "python",
   "nbconvert_exporter": "python",
   "pygments_lexer": "ipython3",
   "version": "3.12.7"
  }
 },
 "nbformat": 4,
 "nbformat_minor": 5
}
