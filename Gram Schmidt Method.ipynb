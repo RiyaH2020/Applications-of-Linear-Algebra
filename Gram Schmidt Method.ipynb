{
 "cells": [
  {
   "cell_type": "markdown",
   "id": "0b6344fa",
   "metadata": {},
   "source": [
    "### Gram-Schmidt Method\n",
    "\n",
    "The **Gram-Schmidt method** is a process to take a set of **linearly independent vectors** and turn them into an **orthogonal (or orthonormal) set of vectors**.  \n",
    "\n",
    "Think of it like this:  \n",
    "- You start with a bunch of vectors that might be pointing in random directions.  \n",
    "- You \"adjust\" each vector so that it becomes **perpendicular** to all the vectors you've already processed.  \n",
    "- If you also make each vector have **length 1**, you get an **orthonormal set**.  \n",
    "\n",
    "### Why is this useful?\n",
    "- Orthogonal vectors are easier to work with in calculations like **projections**, **solving linear systems**, and **QR decomposition**.  \n",
    "- They simplify many problems in **linear algebra** and **data science**.\n",
    "\n",
    "### Intuition\n",
    "Imagine standing in a room with several arrows pointing in different directions:  \n",
    "1. Take the first arrow as it is.  \n",
    "2. For the next arrow, remove the part that points in the direction of the first arrow.  \n",
    "3. For the third arrow, remove the parts that point along the first two arrows.  \n",
    "4. Keep going… each arrow now points in a \"new direction\" not overlapping with previous ones.  \n",
    "\n",
    "Mathematically, if you have vectors \\(v_1, v_2, \\dots, v_n\\), the orthogonal vectors \\(u_1, u_2, \\dots, u_n\\) are computed as:\n",
    "\n",
    "$$\n",
    "\\begin{aligned}\n",
    "u_1 &= v_1 \\\\\n",
    "u_2 &= v_2 - \\text{proj}_{u_1}(v_2) \\\\\n",
    "u_3 &= v_3 - \\text{proj}_{u_1}(v_3) - \\text{proj}_{u_2}(v_3) \\\\\n",
    "&\\vdots\n",
    "\\end{aligned}\n",
    "$$\n",
    "\n",
    "where the **projection** of $(v)$ onto $(u)$ is:  \n",
    "$$\n",
    "\\text{proj}_u(v) = \\frac{v \\cdot u}{u \\cdot u} u\n",
    "$$\n",
    "\n",
    "This way, each $(u_i)$ is **perpendicular** to all previous $(u_j)$.\n",
    "\n"
   ]
  },
  {
   "cell_type": "markdown",
   "id": "72bb06f7-99ce-4785-9a63-836dabda99cc",
   "metadata": {},
   "source": [
    "### Visualizing the Parallelogram Law\n",
    "\n",
    "This plot illustrates the **parallelogram law of vector addition**:\n",
    "\n",
    "1. We define two vectors, `v1` and `v2`.  \n",
    "2. We compute their **sum** (`v1 + v2`) and **difference** (`v1 - v2`). The difference represents the other diagonal of the parallelogram.  \n",
    "3. The plot shows:\n",
    "   - The original vectors (`v1` and `v2`) starting from the origin.\n",
    "   - The resulting vector from their **sum**.\n",
    "   - The resulting vector from their **difference**.\n",
    "4. Dashed lines complete the parallelogram, helping visualize how vector addition geometrically forms the diagonal of a parallelogram.\n",
    "\n",
    "**Takeaway:** The sum of two vectors is represented by the diagonal of the parallelogram formed by placing the vectors tail-to-tail.\n"
   ]
  },
  {
   "cell_type": "code",
   "execution_count": 2,
   "id": "0dca2340",
   "metadata": {},
   "outputs": [],
   "source": [
    "import plotly.graph_objects as go\n",
    "import numpy as np"
   ]
  },
  {
   "cell_type": "code",
   "execution_count": 7,
   "id": "14713c24",
   "metadata": {},
   "outputs": [
    {
     "data": {
      "application/vnd.plotly.v1+json": {
       "config": {
        "plotlyServerURL": "https://plot.ly"
       },
       "data": [
        {
         "mode": "lines+markers",
         "name": "v1",
         "type": "scatter",
         "x": [
          0,
          3
         ],
         "y": [
          0,
          1
         ]
        },
        {
         "mode": "lines+markers",
         "name": "v2",
         "type": "scatter",
         "x": [
          0,
          1
         ],
         "y": [
          0,
          4
         ]
        },
        {
         "mode": "lines+markers",
         "name": "v1 + v2 (Sum)",
         "type": "scatter",
         "x": [
          0,
          4
         ],
         "y": [
          0,
          5
         ]
        },
        {
         "mode": "lines+markers",
         "name": "v1 - v2 (Diff)",
         "type": "scatter",
         "x": [
          0,
          2
         ],
         "y": [
          0,
          -3
         ]
        },
        {
         "line": {
          "color": "grey",
          "dash": "dot"
         },
         "mode": "lines",
         "showlegend": false,
         "type": "scatter",
         "x": [
          3,
          4
         ],
         "y": [
          1,
          5
         ]
        },
        {
         "line": {
          "color": "grey",
          "dash": "dot"
         },
         "mode": "lines",
         "showlegend": false,
         "type": "scatter",
         "x": [
          1,
          4
         ],
         "y": [
          4,
          5
         ]
        },
        {
         "line": {
          "color": "purple",
          "dash": "dot"
         },
         "mode": "lines",
         "showlegend": false,
         "type": "scatter",
         "x": [
          1,
          3
         ],
         "y": [
          4,
          1
         ]
        }
       ],
       "layout": {
        "autosize": true,
        "template": {
         "data": {
          "bar": [
           {
            "error_x": {
             "color": "#2a3f5f"
            },
            "error_y": {
             "color": "#2a3f5f"
            },
            "marker": {
             "line": {
              "color": "#E5ECF6",
              "width": 0.5
             },
             "pattern": {
              "fillmode": "overlay",
              "size": 10,
              "solidity": 0.2
             }
            },
            "type": "bar"
           }
          ],
          "barpolar": [
           {
            "marker": {
             "line": {
              "color": "#E5ECF6",
              "width": 0.5
             },
             "pattern": {
              "fillmode": "overlay",
              "size": 10,
              "solidity": 0.2
             }
            },
            "type": "barpolar"
           }
          ],
          "carpet": [
           {
            "aaxis": {
             "endlinecolor": "#2a3f5f",
             "gridcolor": "white",
             "linecolor": "white",
             "minorgridcolor": "white",
             "startlinecolor": "#2a3f5f"
            },
            "baxis": {
             "endlinecolor": "#2a3f5f",
             "gridcolor": "white",
             "linecolor": "white",
             "minorgridcolor": "white",
             "startlinecolor": "#2a3f5f"
            },
            "type": "carpet"
           }
          ],
          "choropleth": [
           {
            "colorbar": {
             "outlinewidth": 0,
             "ticks": ""
            },
            "type": "choropleth"
           }
          ],
          "contour": [
           {
            "colorbar": {
             "outlinewidth": 0,
             "ticks": ""
            },
            "colorscale": [
             [
              0,
              "#0d0887"
             ],
             [
              0.1111111111111111,
              "#46039f"
             ],
             [
              0.2222222222222222,
              "#7201a8"
             ],
             [
              0.3333333333333333,
              "#9c179e"
             ],
             [
              0.4444444444444444,
              "#bd3786"
             ],
             [
              0.5555555555555556,
              "#d8576b"
             ],
             [
              0.6666666666666666,
              "#ed7953"
             ],
             [
              0.7777777777777778,
              "#fb9f3a"
             ],
             [
              0.8888888888888888,
              "#fdca26"
             ],
             [
              1,
              "#f0f921"
             ]
            ],
            "type": "contour"
           }
          ],
          "contourcarpet": [
           {
            "colorbar": {
             "outlinewidth": 0,
             "ticks": ""
            },
            "type": "contourcarpet"
           }
          ],
          "heatmap": [
           {
            "colorbar": {
             "outlinewidth": 0,
             "ticks": ""
            },
            "colorscale": [
             [
              0,
              "#0d0887"
             ],
             [
              0.1111111111111111,
              "#46039f"
             ],
             [
              0.2222222222222222,
              "#7201a8"
             ],
             [
              0.3333333333333333,
              "#9c179e"
             ],
             [
              0.4444444444444444,
              "#bd3786"
             ],
             [
              0.5555555555555556,
              "#d8576b"
             ],
             [
              0.6666666666666666,
              "#ed7953"
             ],
             [
              0.7777777777777778,
              "#fb9f3a"
             ],
             [
              0.8888888888888888,
              "#fdca26"
             ],
             [
              1,
              "#f0f921"
             ]
            ],
            "type": "heatmap"
           }
          ],
          "histogram": [
           {
            "marker": {
             "pattern": {
              "fillmode": "overlay",
              "size": 10,
              "solidity": 0.2
             }
            },
            "type": "histogram"
           }
          ],
          "histogram2d": [
           {
            "colorbar": {
             "outlinewidth": 0,
             "ticks": ""
            },
            "colorscale": [
             [
              0,
              "#0d0887"
             ],
             [
              0.1111111111111111,
              "#46039f"
             ],
             [
              0.2222222222222222,
              "#7201a8"
             ],
             [
              0.3333333333333333,
              "#9c179e"
             ],
             [
              0.4444444444444444,
              "#bd3786"
             ],
             [
              0.5555555555555556,
              "#d8576b"
             ],
             [
              0.6666666666666666,
              "#ed7953"
             ],
             [
              0.7777777777777778,
              "#fb9f3a"
             ],
             [
              0.8888888888888888,
              "#fdca26"
             ],
             [
              1,
              "#f0f921"
             ]
            ],
            "type": "histogram2d"
           }
          ],
          "histogram2dcontour": [
           {
            "colorbar": {
             "outlinewidth": 0,
             "ticks": ""
            },
            "colorscale": [
             [
              0,
              "#0d0887"
             ],
             [
              0.1111111111111111,
              "#46039f"
             ],
             [
              0.2222222222222222,
              "#7201a8"
             ],
             [
              0.3333333333333333,
              "#9c179e"
             ],
             [
              0.4444444444444444,
              "#bd3786"
             ],
             [
              0.5555555555555556,
              "#d8576b"
             ],
             [
              0.6666666666666666,
              "#ed7953"
             ],
             [
              0.7777777777777778,
              "#fb9f3a"
             ],
             [
              0.8888888888888888,
              "#fdca26"
             ],
             [
              1,
              "#f0f921"
             ]
            ],
            "type": "histogram2dcontour"
           }
          ],
          "mesh3d": [
           {
            "colorbar": {
             "outlinewidth": 0,
             "ticks": ""
            },
            "type": "mesh3d"
           }
          ],
          "parcoords": [
           {
            "line": {
             "colorbar": {
              "outlinewidth": 0,
              "ticks": ""
             }
            },
            "type": "parcoords"
           }
          ],
          "pie": [
           {
            "automargin": true,
            "type": "pie"
           }
          ],
          "scatter": [
           {
            "fillpattern": {
             "fillmode": "overlay",
             "size": 10,
             "solidity": 0.2
            },
            "type": "scatter"
           }
          ],
          "scatter3d": [
           {
            "line": {
             "colorbar": {
              "outlinewidth": 0,
              "ticks": ""
             }
            },
            "marker": {
             "colorbar": {
              "outlinewidth": 0,
              "ticks": ""
             }
            },
            "type": "scatter3d"
           }
          ],
          "scattercarpet": [
           {
            "marker": {
             "colorbar": {
              "outlinewidth": 0,
              "ticks": ""
             }
            },
            "type": "scattercarpet"
           }
          ],
          "scattergeo": [
           {
            "marker": {
             "colorbar": {
              "outlinewidth": 0,
              "ticks": ""
             }
            },
            "type": "scattergeo"
           }
          ],
          "scattergl": [
           {
            "marker": {
             "colorbar": {
              "outlinewidth": 0,
              "ticks": ""
             }
            },
            "type": "scattergl"
           }
          ],
          "scattermap": [
           {
            "marker": {
             "colorbar": {
              "outlinewidth": 0,
              "ticks": ""
             }
            },
            "type": "scattermap"
           }
          ],
          "scattermapbox": [
           {
            "marker": {
             "colorbar": {
              "outlinewidth": 0,
              "ticks": ""
             }
            },
            "type": "scattermapbox"
           }
          ],
          "scatterpolar": [
           {
            "marker": {
             "colorbar": {
              "outlinewidth": 0,
              "ticks": ""
             }
            },
            "type": "scatterpolar"
           }
          ],
          "scatterpolargl": [
           {
            "marker": {
             "colorbar": {
              "outlinewidth": 0,
              "ticks": ""
             }
            },
            "type": "scatterpolargl"
           }
          ],
          "scatterternary": [
           {
            "marker": {
             "colorbar": {
              "outlinewidth": 0,
              "ticks": ""
             }
            },
            "type": "scatterternary"
           }
          ],
          "surface": [
           {
            "colorbar": {
             "outlinewidth": 0,
             "ticks": ""
            },
            "colorscale": [
             [
              0,
              "#0d0887"
             ],
             [
              0.1111111111111111,
              "#46039f"
             ],
             [
              0.2222222222222222,
              "#7201a8"
             ],
             [
              0.3333333333333333,
              "#9c179e"
             ],
             [
              0.4444444444444444,
              "#bd3786"
             ],
             [
              0.5555555555555556,
              "#d8576b"
             ],
             [
              0.6666666666666666,
              "#ed7953"
             ],
             [
              0.7777777777777778,
              "#fb9f3a"
             ],
             [
              0.8888888888888888,
              "#fdca26"
             ],
             [
              1,
              "#f0f921"
             ]
            ],
            "type": "surface"
           }
          ],
          "table": [
           {
            "cells": {
             "fill": {
              "color": "#EBF0F8"
             },
             "line": {
              "color": "white"
             }
            },
            "header": {
             "fill": {
              "color": "#C8D4E3"
             },
             "line": {
              "color": "white"
             }
            },
            "type": "table"
           }
          ]
         },
         "layout": {
          "annotationdefaults": {
           "arrowcolor": "#2a3f5f",
           "arrowhead": 0,
           "arrowwidth": 1
          },
          "autotypenumbers": "strict",
          "coloraxis": {
           "colorbar": {
            "outlinewidth": 0,
            "ticks": ""
           }
          },
          "colorscale": {
           "diverging": [
            [
             0,
             "#8e0152"
            ],
            [
             0.1,
             "#c51b7d"
            ],
            [
             0.2,
             "#de77ae"
            ],
            [
             0.3,
             "#f1b6da"
            ],
            [
             0.4,
             "#fde0ef"
            ],
            [
             0.5,
             "#f7f7f7"
            ],
            [
             0.6,
             "#e6f5d0"
            ],
            [
             0.7,
             "#b8e186"
            ],
            [
             0.8,
             "#7fbc41"
            ],
            [
             0.9,
             "#4d9221"
            ],
            [
             1,
             "#276419"
            ]
           ],
           "sequential": [
            [
             0,
             "#0d0887"
            ],
            [
             0.1111111111111111,
             "#46039f"
            ],
            [
             0.2222222222222222,
             "#7201a8"
            ],
            [
             0.3333333333333333,
             "#9c179e"
            ],
            [
             0.4444444444444444,
             "#bd3786"
            ],
            [
             0.5555555555555556,
             "#d8576b"
            ],
            [
             0.6666666666666666,
             "#ed7953"
            ],
            [
             0.7777777777777778,
             "#fb9f3a"
            ],
            [
             0.8888888888888888,
             "#fdca26"
            ],
            [
             1,
             "#f0f921"
            ]
           ],
           "sequentialminus": [
            [
             0,
             "#0d0887"
            ],
            [
             0.1111111111111111,
             "#46039f"
            ],
            [
             0.2222222222222222,
             "#7201a8"
            ],
            [
             0.3333333333333333,
             "#9c179e"
            ],
            [
             0.4444444444444444,
             "#bd3786"
            ],
            [
             0.5555555555555556,
             "#d8576b"
            ],
            [
             0.6666666666666666,
             "#ed7953"
            ],
            [
             0.7777777777777778,
             "#fb9f3a"
            ],
            [
             0.8888888888888888,
             "#fdca26"
            ],
            [
             1,
             "#f0f921"
            ]
           ]
          },
          "colorway": [
           "#636efa",
           "#EF553B",
           "#00cc96",
           "#ab63fa",
           "#FFA15A",
           "#19d3f3",
           "#FF6692",
           "#B6E880",
           "#FF97FF",
           "#FECB52"
          ],
          "font": {
           "color": "#2a3f5f"
          },
          "geo": {
           "bgcolor": "white",
           "lakecolor": "white",
           "landcolor": "#E5ECF6",
           "showlakes": true,
           "showland": true,
           "subunitcolor": "white"
          },
          "hoverlabel": {
           "align": "left"
          },
          "hovermode": "closest",
          "mapbox": {
           "style": "light"
          },
          "paper_bgcolor": "white",
          "plot_bgcolor": "#E5ECF6",
          "polar": {
           "angularaxis": {
            "gridcolor": "white",
            "linecolor": "white",
            "ticks": ""
           },
           "bgcolor": "#E5ECF6",
           "radialaxis": {
            "gridcolor": "white",
            "linecolor": "white",
            "ticks": ""
           }
          },
          "scene": {
           "xaxis": {
            "backgroundcolor": "#E5ECF6",
            "gridcolor": "white",
            "gridwidth": 2,
            "linecolor": "white",
            "showbackground": true,
            "ticks": "",
            "zerolinecolor": "white"
           },
           "yaxis": {
            "backgroundcolor": "#E5ECF6",
            "gridcolor": "white",
            "gridwidth": 2,
            "linecolor": "white",
            "showbackground": true,
            "ticks": "",
            "zerolinecolor": "white"
           },
           "zaxis": {
            "backgroundcolor": "#E5ECF6",
            "gridcolor": "white",
            "gridwidth": 2,
            "linecolor": "white",
            "showbackground": true,
            "ticks": "",
            "zerolinecolor": "white"
           }
          },
          "shapedefaults": {
           "line": {
            "color": "#2a3f5f"
           }
          },
          "ternary": {
           "aaxis": {
            "gridcolor": "white",
            "linecolor": "white",
            "ticks": ""
           },
           "baxis": {
            "gridcolor": "white",
            "linecolor": "white",
            "ticks": ""
           },
           "bgcolor": "#E5ECF6",
           "caxis": {
            "gridcolor": "white",
            "linecolor": "white",
            "ticks": ""
           }
          },
          "title": {
           "x": 0.05
          },
          "xaxis": {
           "automargin": true,
           "gridcolor": "white",
           "linecolor": "white",
           "ticks": "",
           "title": {
            "standoff": 15
           },
           "zerolinecolor": "white",
           "zerolinewidth": 2
          },
          "yaxis": {
           "automargin": true,
           "gridcolor": "white",
           "linecolor": "white",
           "ticks": "",
           "title": {
            "standoff": 15
           },
           "zerolinecolor": "white",
           "zerolinewidth": 2
          }
         }
        },
        "title": {
         "text": "Parallelogram Law"
        },
        "xaxis": {
         "autorange": true,
         "domain": [
          0,
          1
         ],
         "dtick": 1,
         "range": [
          -20.21359223300971,
          24.213592233009717
         ],
         "title": {
          "text": "X-axis"
         },
         "type": "linear"
        },
        "yaxis": {
         "autorange": true,
         "domain": [
          0,
          1
         ],
         "dtick": 1,
         "range": [
          -3.6601941747572817,
          5.660194174757281
         ],
         "scaleanchor": "x",
         "title": {
          "text": "Y-axis"
         },
         "type": "linear"
        }
       }
      },
      "image/png": "[encoded data removed]"
     },
     "metadata": {},
     "output_type": "display_data"
    }
   ],
   "source": [
    "# 1. Define the vectors\n",
    "v1 = np.array([3, 1])\n",
    "v2 = np.array([1, 4])\n",
    "\n",
    "# 2. Calculate sum and difference\n",
    "v_sum = v1 + v2\n",
    "v_diff = v1 - v2 # This is the other diagonal of the parallelogram\n",
    "\n",
    "# 3. Create the plot\n",
    "fig = go.Figure()\n",
    "\n",
    "# Add the main vectors and their sum/difference\n",
    "fig.add_trace(go.Scatter(x=[0, v1[0]], y=[0, v1[1]], mode='lines+markers', name='v1'))\n",
    "fig.add_trace(go.Scatter(x=[0, v2[0]], y=[0, v2[1]], mode='lines+markers', name='v2'))\n",
    "fig.add_trace(go.Scatter(x=[0, v_sum[0]], y=[0, v_sum[1]], mode='lines+markers', name='v1 + v2 (Sum)'))\n",
    "fig.add_trace(go.Scatter(x=[0, v_diff[0]], y=[0, v_diff[1]], mode='lines+markers', name='v1 - v2 (Diff)'))\n",
    "\n",
    "# Add the helper lines to complete the parallelogram for addition\n",
    "fig.add_trace(go.Scatter(\n",
    "    x=[v1[0], v_sum[0]], y=[v1[1], v_sum[1]],\n",
    "    mode='lines', line=dict(dash='dot', color='grey'), showlegend=False\n",
    "))\n",
    "fig.add_trace(go.Scatter(\n",
    "    x=[v2[0], v_sum[0]], y=[v2[1], v_sum[1]],\n",
    "    mode='lines', line=dict(dash='dot', color='grey'), showlegend=False\n",
    "))\n",
    "fig.add_trace(go.Scatter(\n",
    "    x=[v2[0], v1[0]], y=[v2[1], v1[1]],\n",
    "    mode='lines', line=dict(dash='dot', color='purple'), showlegend=False\n",
    "))\n",
    "\n",
    "# 4. Update layout for clarity\n",
    "fig.update_layout(\n",
    "    title=\"Parallelogram Law\",\n",
    "    xaxis=dict(title=\"X-axis\", dtick=1 ),\n",
    "    yaxis=dict(title=\"Y-axis\", scaleanchor=\"x\", dtick=1 )\n",
    ")\n",
    "\n",
    "fig.show()"
   ]
  },
  {
   "cell_type": "markdown",
   "id": "ad7ede57-bab5-400a-ba71-d64d238b8bf1",
   "metadata": {},
   "source": [
    "### Animation: Gram-Schmidt Orthogonalization\n",
    "\n",
    "This interactive plot demonstrates the **Gram-Schmidt process** in 2D, showing how we convert a set of vectors into an **orthogonal basis**.\n",
    "\n",
    "### Steps in the Animation:\n",
    "\n",
    "1. **Initial Vectors**  \n",
    "   We start with two vectors `u1` and `u2`.\n",
    "\n",
    "2. **Projection**  \n",
    "   We project `u2` onto `v1` (the first vector of the new orthogonal basis). This shows the part of `u2` that lies along `v1`.\n",
    "\n",
    "3. **Subtract Projection**  \n",
    "   We subtract the projection from `u2` to get `v2`, which is **orthogonal to `v1`**. The dashed lines illustrate the parallelogram formed in this subtraction.\n",
    "\n",
    "4. **Final Orthogonal Basis**  \n",
    "   The result is two vectors `v1` and `v2` that are **perpendicular** to each other. Together, they form an **orthogonal basis** for the space spanned by `u1` and `u2`.\n",
    "\n",
    "### Key Takeaways:\n",
    "\n",
    "- Gram-Schmidt systematically removes components along existing vectors to create orthogonal vectors.  \n",
    "- This method is foundational for **QR decomposition**, **least squares**, and many applications in **linear algebra** and **data science**.  \n",
    "\n"
   ]
  },
  {
   "cell_type": "code",
   "execution_count": null,
   "id": "8cf80f05",
   "metadata": {},
   "outputs": [],
   "source": [
    "# Consider 2 vectors \n",
    "u1 = [1,1]\n",
    "u2 = [1,0]\n",
    "# Plot u1 and u2\n",
    "v1 = u1\n",
    "# Plot projection of v1 on u2\n",
    "# Using paralleogram plot u2 - proj(v1)on u2\n"
   ]
  },
  {
   "cell_type": "code",
   "execution_count": 21,
   "id": "1e3b7476",
   "metadata": {},
   "outputs": [
    {
     "data": {
      "application/vnd.plotly.v1+json": {
       "config": {
        "plotlyServerURL": "https://plot.ly"
       },
       "data": [
        {
         "line": {
          "color": "blue"
         },
         "mode": "lines+markers",
         "name": "v1 (start)",
         "type": "scatter",
         "x": [
          0,
          5
         ],
         "y": [
          0,
          3
         ]
        },
        {
         "line": {
          "color": "green"
         },
         "mode": "lines+markers",
         "name": "u2 (start)",
         "type": "scatter",
         "x": [
          0,
          4
         ],
         "y": [
          0,
          1
         ]
        },
        {
         "line": {
          "color": "grey",
          "dash": "dot"
         },
         "mode": "lines",
         "name": "Projection Line",
         "type": "scatter",
         "visible": false,
         "x": [
          4,
          3.382352941176471
         ],
         "y": [
          1,
          2.0294117647058822
         ]
        },
        {
         "line": {
          "color": "red",
          "dash": "dash"
         },
         "mode": "lines+markers",
         "name": "proj(u2 on v1)",
         "type": "scatter",
         "visible": false,
         "x": [
          0,
          3.382352941176471
         ],
         "y": [
          0,
          2.0294117647058822
         ]
        },
        {
         "line": {
          "color": "purple",
          "width": 4
         },
         "mode": "lines+markers",
         "name": "v2 = u2 - proj",
         "type": "scatter",
         "visible": false,
         "x": [
          0,
          0.617647058823529
         ],
         "y": [
          0,
          -1.0294117647058822
         ]
        },
        {
         "line": {
          "color": "lightgrey",
          "dash": "dot"
         },
         "mode": "lines",
         "showlegend": false,
         "type": "scatter",
         "visible": false,
         "x": [
          4,
          0.617647058823529
         ],
         "y": [
          1,
          -1.0294117647058822
         ]
        },
        {
         "line": {
          "color": "lightgrey",
          "dash": "dot"
         },
         "mode": "lines",
         "showlegend": false,
         "type": "scatter",
         "visible": false,
         "x": [
          3.382352941176471,
          4
         ],
         "y": [
          2.0294117647058822,
          1
         ]
        },
        {
         "line": {
          "color": "blue",
          "width": 4
         },
         "mode": "lines+markers",
         "name": "v1 (final)",
         "type": "scatter",
         "visible": false,
         "x": [
          0,
          5
         ],
         "y": [
          0,
          3
         ]
        },
        {
         "line": {
          "color": "purple",
          "width": 4
         },
         "mode": "lines+markers",
         "name": "v2 (final)",
         "type": "scatter",
         "visible": false,
         "x": [
          0,
          0.617647058823529
         ],
         "y": [
          0,
          -1.0294117647058822
         ]
        }
       ],
       "frames": [
        {
         "data": [
          {
           "type": "scatter",
           "visible": true
          },
          {
           "type": "scatter",
           "visible": true
          },
          {
           "type": "scatter",
           "visible": false
          },
          {
           "type": "scatter",
           "visible": false
          },
          {
           "type": "scatter",
           "visible": false
          },
          {
           "type": "scatter",
           "visible": false
          },
          {
           "type": "scatter",
           "visible": false
          },
          {
           "type": "scatter",
           "visible": false
          },
          {
           "type": "scatter",
           "visible": false
          }
         ],
         "name": "Step 1: Initial Vectors"
        },
        {
         "data": [
          {
           "type": "scatter",
           "visible": false
          },
          {
           "type": "scatter",
           "visible": true
          },
          {
           "type": "scatter",
           "visible": true
          },
          {
           "type": "scatter",
           "visible": true
          },
          {
           "type": "scatter",
           "visible": false
          },
          {
           "type": "scatter",
           "visible": false
          },
          {
           "type": "scatter",
           "visible": false
          },
          {
           "type": "scatter",
           "visible": false
          },
          {
           "type": "scatter",
           "visible": false
          }
         ],
         "name": "Step 2: Project u2 onto v1"
        },
        {
         "data": [
          {
           "type": "scatter",
           "visible": false
          },
          {
           "type": "scatter",
           "visible": true
          },
          {
           "type": "scatter",
           "visible": false
          },
          {
           "type": "scatter",
           "visible": true
          },
          {
           "type": "scatter",
           "visible": true
          },
          {
           "type": "scatter",
           "visible": true
          },
          {
           "type": "scatter",
           "visible": true
          },
          {
           "type": "scatter",
           "visible": false
          },
          {
           "type": "scatter",
           "visible": false
          }
         ],
         "name": "Step 3: Find Orthogonal Component"
        },
        {
         "data": [
          {
           "type": "scatter",
           "visible": false
          },
          {
           "type": "scatter",
           "visible": false
          },
          {
           "type": "scatter",
           "visible": false
          },
          {
           "type": "scatter",
           "visible": false
          },
          {
           "type": "scatter",
           "visible": false
          },
          {
           "type": "scatter",
           "visible": false
          },
          {
           "type": "scatter",
           "visible": false
          },
          {
           "type": "scatter",
           "visible": true
          },
          {
           "type": "scatter",
           "visible": true
          }
         ],
         "name": "Step 4: Final Orthogonal Basis"
        }
       ],
       "layout": {
        "sliders": [
         {
          "steps": [
           {
            "args": [
             [
              "Step 1: Initial Vectors"
             ]
            ],
            "label": "Initial",
            "method": "animate"
           },
           {
            "args": [
             [
              "Step 2: Project u2 onto v1"
             ]
            ],
            "label": "Project",
            "method": "animate"
           },
           {
            "args": [
             [
              "Step 3: Find Orthogonal Component"
             ]
            ],
            "label": "Subtract",
            "method": "animate"
           },
           {
            "args": [
             [
              "Step 4: Final Orthogonal Basis"
             ]
            ],
            "label": "Final",
            "method": "animate"
           }
          ]
         }
        ],
        "template": {
         "data": {
          "bar": [
           {
            "error_x": {
             "color": "#2a3f5f"
            },
            "error_y": {
             "color": "#2a3f5f"
            },
            "marker": {
             "line": {
              "color": "#E5ECF6",
              "width": 0.5
             },
             "pattern": {
              "fillmode": "overlay",
              "size": 10,
              "solidity": 0.2
             }
            },
            "type": "bar"
           }
          ],
          "barpolar": [
           {
            "marker": {
             "line": {
              "color": "#E5ECF6",
              "width": 0.5
             },
             "pattern": {
              "fillmode": "overlay",
              "size": 10,
              "solidity": 0.2
             }
            },
            "type": "barpolar"
           }
          ],
          "carpet": [
           {
            "aaxis": {
             "endlinecolor": "#2a3f5f",
             "gridcolor": "white",
             "linecolor": "white",
             "minorgridcolor": "white",
             "startlinecolor": "#2a3f5f"
            },
            "baxis": {
             "endlinecolor": "#2a3f5f",
             "gridcolor": "white",
             "linecolor": "white",
             "minorgridcolor": "white",
             "startlinecolor": "#2a3f5f"
            },
            "type": "carpet"
           }
          ],
          "choropleth": [
           {
            "colorbar": {
             "outlinewidth": 0,
             "ticks": ""
            },
            "type": "choropleth"
           }
          ],
          "contour": [
           {
            "colorbar": {
             "outlinewidth": 0,
             "ticks": ""
            },
            "colorscale": [
             [
              0,
              "#0d0887"
             ],
             [
              0.1111111111111111,
              "#46039f"
             ],
             [
              0.2222222222222222,
              "#7201a8"
             ],
             [
              0.3333333333333333,
              "#9c179e"
             ],
             [
              0.4444444444444444,
              "#bd3786"
             ],
             [
              0.5555555555555556,
              "#d8576b"
             ],
             [
              0.6666666666666666,
              "#ed7953"
             ],
             [
              0.7777777777777778,
              "#fb9f3a"
             ],
             [
              0.8888888888888888,
              "#fdca26"
             ],
             [
              1,
              "#f0f921"
             ]
            ],
            "type": "contour"
           }
          ],
          "contourcarpet": [
           {
            "colorbar": {
             "outlinewidth": 0,
             "ticks": ""
            },
            "type": "contourcarpet"
           }
          ],
          "heatmap": [
           {
            "colorbar": {
             "outlinewidth": 0,
             "ticks": ""
            },
            "colorscale": [
             [
              0,
              "#0d0887"
             ],
             [
              0.1111111111111111,
              "#46039f"
             ],
             [
              0.2222222222222222,
              "#7201a8"
             ],
             [
              0.3333333333333333,
              "#9c179e"
             ],
             [
              0.4444444444444444,
              "#bd3786"
             ],
             [
              0.5555555555555556,
              "#d8576b"
             ],
             [
              0.6666666666666666,
              "#ed7953"
             ],
             [
              0.7777777777777778,
              "#fb9f3a"
             ],
             [
              0.8888888888888888,
              "#fdca26"
             ],
             [
              1,
              "#f0f921"
             ]
            ],
            "type": "heatmap"
           }
          ],
          "histogram": [
           {
            "marker": {
             "pattern": {
              "fillmode": "overlay",
              "size": 10,
              "solidity": 0.2
             }
            },
            "type": "histogram"
           }
          ],
          "histogram2d": [
           {
            "colorbar": {
             "outlinewidth": 0,
             "ticks": ""
            },
            "colorscale": [
             [
              0,
              "#0d0887"
             ],
             [
              0.1111111111111111,
              "#46039f"
             ],
             [
              0.2222222222222222,
              "#7201a8"
             ],
             [
              0.3333333333333333,
              "#9c179e"
             ],
             [
              0.4444444444444444,
              "#bd3786"
             ],
             [
              0.5555555555555556,
              "#d8576b"
             ],
             [
              0.6666666666666666,
              "#ed7953"
             ],
             [
              0.7777777777777778,
              "#fb9f3a"
             ],
             [
              0.8888888888888888,
              "#fdca26"
             ],
             [
              1,
              "#f0f921"
             ]
            ],
            "type": "histogram2d"
           }
          ],
          "histogram2dcontour": [
           {
            "colorbar": {
             "outlinewidth": 0,
             "ticks": ""
            },
            "colorscale": [
             [
              0,
              "#0d0887"
             ],
             [
              0.1111111111111111,
              "#46039f"
             ],
             [
              0.2222222222222222,
              "#7201a8"
             ],
             [
              0.3333333333333333,
              "#9c179e"
             ],
             [
              0.4444444444444444,
              "#bd3786"
             ],
             [
              0.5555555555555556,
              "#d8576b"
             ],
             [
              0.6666666666666666,
              "#ed7953"
             ],
             [
              0.7777777777777778,
              "#fb9f3a"
             ],
             [
              0.8888888888888888,
              "#fdca26"
             ],
             [
              1,
              "#f0f921"
             ]
            ],
            "type": "histogram2dcontour"
           }
          ],
          "mesh3d": [
           {
            "colorbar": {
             "outlinewidth": 0,
             "ticks": ""
            },
            "type": "mesh3d"
           }
          ],
          "parcoords": [
           {
            "line": {
             "colorbar": {
              "outlinewidth": 0,
              "ticks": ""
             }
            },
            "type": "parcoords"
           }
          ],
          "pie": [
           {
            "automargin": true,
            "type": "pie"
           }
          ],
          "scatter": [
           {
            "fillpattern": {
             "fillmode": "overlay",
             "size": 10,
             "solidity": 0.2
            },
            "type": "scatter"
           }
          ],
          "scatter3d": [
           {
            "line": {
             "colorbar": {
              "outlinewidth": 0,
              "ticks": ""
             }
            },
            "marker": {
             "colorbar": {
              "outlinewidth": 0,
              "ticks": ""
             }
            },
            "type": "scatter3d"
           }
          ],
          "scattercarpet": [
           {
            "marker": {
             "colorbar": {
              "outlinewidth": 0,
              "ticks": ""
             }
            },
            "type": "scattercarpet"
           }
          ],
          "scattergeo": [
           {
            "marker": {
             "colorbar": {
              "outlinewidth": 0,
              "ticks": ""
             }
            },
            "type": "scattergeo"
           }
          ],
          "scattergl": [
           {
            "marker": {
             "colorbar": {
              "outlinewidth": 0,
              "ticks": ""
             }
            },
            "type": "scattergl"
           }
          ],
          "scattermap": [
           {
            "marker": {
             "colorbar": {
              "outlinewidth": 0,
              "ticks": ""
             }
            },
            "type": "scattermap"
           }
          ],
          "scattermapbox": [
           {
            "marker": {
             "colorbar": {
              "outlinewidth": 0,
              "ticks": ""
             }
            },
            "type": "scattermapbox"
           }
          ],
          "scatterpolar": [
           {
            "marker": {
             "colorbar": {
              "outlinewidth": 0,
              "ticks": ""
             }
            },
            "type": "scatterpolar"
           }
          ],
          "scatterpolargl": [
           {
            "marker": {
             "colorbar": {
              "outlinewidth": 0,
              "ticks": ""
             }
            },
            "type": "scatterpolargl"
           }
          ],
          "scatterternary": [
           {
            "marker": {
             "colorbar": {
              "outlinewidth": 0,
              "ticks": ""
             }
            },
            "type": "scatterternary"
           }
          ],
          "surface": [
           {
            "colorbar": {
             "outlinewidth": 0,
             "ticks": ""
            },
            "colorscale": [
             [
              0,
              "#0d0887"
             ],
             [
              0.1111111111111111,
              "#46039f"
             ],
             [
              0.2222222222222222,
              "#7201a8"
             ],
             [
              0.3333333333333333,
              "#9c179e"
             ],
             [
              0.4444444444444444,
              "#bd3786"
             ],
             [
              0.5555555555555556,
              "#d8576b"
             ],
             [
              0.6666666666666666,
              "#ed7953"
             ],
             [
              0.7777777777777778,
              "#fb9f3a"
             ],
             [
              0.8888888888888888,
              "#fdca26"
             ],
             [
              1,
              "#f0f921"
             ]
            ],
            "type": "surface"
           }
          ],
          "table": [
           {
            "cells": {
             "fill": {
              "color": "#EBF0F8"
             },
             "line": {
              "color": "white"
             }
            },
            "header": {
             "fill": {
              "color": "#C8D4E3"
             },
             "line": {
              "color": "white"
             }
            },
            "type": "table"
           }
          ]
         },
         "layout": {
          "annotationdefaults": {
           "arrowcolor": "#2a3f5f",
           "arrowhead": 0,
           "arrowwidth": 1
          },
          "autotypenumbers": "strict",
          "coloraxis": {
           "colorbar": {
            "outlinewidth": 0,
            "ticks": ""
           }
          },
          "colorscale": {
           "diverging": [
            [
             0,
             "#8e0152"
            ],
            [
             0.1,
             "#c51b7d"
            ],
            [
             0.2,
             "#de77ae"
            ],
            [
             0.3,
             "#f1b6da"
            ],
            [
             0.4,
             "#fde0ef"
            ],
            [
             0.5,
             "#f7f7f7"
            ],
            [
             0.6,
             "#e6f5d0"
            ],
            [
             0.7,
             "#b8e186"
            ],
            [
             0.8,
             "#7fbc41"
            ],
            [
             0.9,
             "#4d9221"
            ],
            [
             1,
             "#276419"
            ]
           ],
           "sequential": [
            [
             0,
             "#0d0887"
            ],
            [
             0.1111111111111111,
             "#46039f"
            ],
            [
             0.2222222222222222,
             "#7201a8"
            ],
            [
             0.3333333333333333,
             "#9c179e"
            ],
            [
             0.4444444444444444,
             "#bd3786"
            ],
            [
             0.5555555555555556,
             "#d8576b"
            ],
            [
             0.6666666666666666,
             "#ed7953"
            ],
            [
             0.7777777777777778,
             "#fb9f3a"
            ],
            [
             0.8888888888888888,
             "#fdca26"
            ],
            [
             1,
             "#f0f921"
            ]
           ],
           "sequentialminus": [
            [
             0,
             "#0d0887"
            ],
            [
             0.1111111111111111,
             "#46039f"
            ],
            [
             0.2222222222222222,
             "#7201a8"
            ],
            [
             0.3333333333333333,
             "#9c179e"
            ],
            [
             0.4444444444444444,
             "#bd3786"
            ],
            [
             0.5555555555555556,
             "#d8576b"
            ],
            [
             0.6666666666666666,
             "#ed7953"
            ],
            [
             0.7777777777777778,
             "#fb9f3a"
            ],
            [
             0.8888888888888888,
             "#fdca26"
            ],
            [
             1,
             "#f0f921"
            ]
           ]
          },
          "colorway": [
           "#636efa",
           "#EF553B",
           "#00cc96",
           "#ab63fa",
           "#FFA15A",
           "#19d3f3",
           "#FF6692",
           "#B6E880",
           "#FF97FF",
           "#FECB52"
          ],
          "font": {
           "color": "#2a3f5f"
          },
          "geo": {
           "bgcolor": "white",
           "lakecolor": "white",
           "landcolor": "#E5ECF6",
           "showlakes": true,
           "showland": true,
           "subunitcolor": "white"
          },
          "hoverlabel": {
           "align": "left"
          },
          "hovermode": "closest",
          "mapbox": {
           "style": "light"
          },
          "paper_bgcolor": "white",
          "plot_bgcolor": "#E5ECF6",
          "polar": {
           "angularaxis": {
            "gridcolor": "white",
            "linecolor": "white",
            "ticks": ""
           },
           "bgcolor": "#E5ECF6",
           "radialaxis": {
            "gridcolor": "white",
            "linecolor": "white",
            "ticks": ""
           }
          },
          "scene": {
           "xaxis": {
            "backgroundcolor": "#E5ECF6",
            "gridcolor": "white",
            "gridwidth": 2,
            "linecolor": "white",
            "showbackground": true,
            "ticks": "",
            "zerolinecolor": "white"
           },
           "yaxis": {
            "backgroundcolor": "#E5ECF6",
            "gridcolor": "white",
            "gridwidth": 2,
            "linecolor": "white",
            "showbackground": true,
            "ticks": "",
            "zerolinecolor": "white"
           },
           "zaxis": {
            "backgroundcolor": "#E5ECF6",
            "gridcolor": "white",
            "gridwidth": 2,
            "linecolor": "white",
            "showbackground": true,
            "ticks": "",
            "zerolinecolor": "white"
           }
          },
          "shapedefaults": {
           "line": {
            "color": "#2a3f5f"
           }
          },
          "ternary": {
           "aaxis": {
            "gridcolor": "white",
            "linecolor": "white",
            "ticks": ""
           },
           "baxis": {
            "gridcolor": "white",
            "linecolor": "white",
            "ticks": ""
           },
           "bgcolor": "#E5ECF6",
           "caxis": {
            "gridcolor": "white",
            "linecolor": "white",
            "ticks": ""
           }
          },
          "title": {
           "x": 0.05
          },
          "xaxis": {
           "automargin": true,
           "gridcolor": "white",
           "linecolor": "white",
           "ticks": "",
           "title": {
            "standoff": 15
           },
           "zerolinecolor": "white",
           "zerolinewidth": 2
          },
          "yaxis": {
           "automargin": true,
           "gridcolor": "white",
           "linecolor": "white",
           "ticks": "",
           "title": {
            "standoff": 15
           },
           "zerolinecolor": "white",
           "zerolinewidth": 2
          }
         }
        },
        "title": {
         "text": "Animation of Gram-Schmidt Orthogonalization"
        },
        "updatemenus": [
         {
          "buttons": [
           {
            "args": [
             null,
             {
              "frame": {
               "duration": 1500
              }
             }
            ],
            "label": "Start",
            "method": "animate"
           }
          ],
          "type": "buttons"
         }
        ],
        "xaxis": {
         "dtick": 1,
         "range": [
          -1,
          5
         ]
        },
        "yaxis": {
         "dtick": 1,
         "range": [
          -2,
          5
         ],
         "scaleanchor": "x"
        }
       }
      }
     },
     "metadata": {},
     "output_type": "display_data"
    }
   ],
   "source": [
    "# --- 1. Setup and Calculations ---\n",
    "\n",
    "# Using the same illustrative vectors\n",
    "u1 = np.array([5, 3])\n",
    "u2 = np.array([4, 1])\n",
    "\n",
    "# The first vector of our new basis is just u1\n",
    "v1 = u1\n",
    "\n",
    "# Calculate the projection of u2 onto v1\n",
    "dot_product = np.dot(u2, v1)\n",
    "v1_mag_sq = np.dot(v1, v1)\n",
    "proj_u2_on_v1 = (dot_product / v1_mag_sq) * v1\n",
    "\n",
    "# Calculate the new orthogonal vector v2\n",
    "v2 = u2 - proj_u2_on_v1\n",
    "\n",
    "\n",
    "# --- 2. Create all plot components (traces) ---\n",
    "\n",
    "fig = go.Figure()\n",
    "\n",
    "# Add all traces to the figure\n",
    "# Step 1: Initial vectors\n",
    "fig.add_trace(go.Scatter(x=[0, v1[0]], y=[0, v1[1]], mode='lines+markers', name='v1 (start)', line=dict(color='blue')))\n",
    "fig.add_trace(go.Scatter(x=[0, u2[0]], y=[0, u2[1]], mode='lines+markers', name='u2 (start)', line=dict(color='green')))\n",
    "\n",
    "# Step 2: Projection line and vector\n",
    "fig.add_trace(go.Scatter(x=[u2[0], proj_u2_on_v1[0]], y=[u2[1], proj_u2_on_v1[1]], mode='lines', name='Projection Line', line=dict(color='grey', dash='dot'), visible=False))\n",
    "fig.add_trace(go.Scatter(x=[0, proj_u2_on_v1[0]], y=[0, proj_u2_on_v1[1]], mode='lines+markers', name='proj(u2 on v1)', line=dict(color='red', dash='dash'), visible=False))\n",
    "\n",
    "# Step 3: Orthogonal component (the new v2) and parallelogram\n",
    "fig.add_trace(go.Scatter(x=[0, v2[0]], y=[0, v2[1]], mode='lines+markers', name='v2 = u2 - proj', line=dict(color='purple', width=4), visible=False))\n",
    "fig.add_trace(go.Scatter(x=[u2[0], v2[0]], y=[u2[1], v2[1]], mode='lines', line=dict(dash='dot', color='lightgrey'), showlegend=False, visible=False))\n",
    "fig.add_trace(go.Scatter(x=[proj_u2_on_v1[0], u2[0]], y=[proj_u2_on_v1[1], u2[1]], mode='lines', line=dict(dash='dot', color='lightgrey'), showlegend=False, visible=False))\n",
    "\n",
    "# Step 4: Final orthogonal basis\n",
    "fig.add_trace(go.Scatter(x=[0, v1[0]], y=[0, v1[1]], mode='lines+markers', name='v1 (final)', line=dict(color='blue', width=4), visible=False))\n",
    "fig.add_trace(go.Scatter(x=[0, v2[0]], y=[0, v2[1]], mode='lines+markers', name='v2 (final)', line=dict(color='purple', width=4), visible=False))\n",
    "\n",
    "\n",
    "# --- 3. Define the animation frames (with v1 hidden in steps 2 & 3) ---\n",
    "\n",
    "frames = [\n",
    "    # Frame 0: Initial State\n",
    "    go.Frame(name='Step 1: Initial Vectors', data=[\n",
    "        go.Scatter(visible=True), go.Scatter(visible=True), # v1, u2\n",
    "        go.Scatter(visible=False), go.Scatter(visible=False),\n",
    "        go.Scatter(visible=False), go.Scatter(visible=False), go.Scatter(visible=False),\n",
    "        go.Scatter(visible=False), go.Scatter(visible=False)\n",
    "    ]),\n",
    "    # Frame 1: Show Projection (v1 is now FALSE)\n",
    "    go.Frame(name='Step 2: Project u2 onto v1', data=[\n",
    "        go.Scatter(visible=False), go.Scatter(visible=True), # Hide v1\n",
    "        go.Scatter(visible=True), go.Scatter(visible=True),\n",
    "        go.Scatter(visible=False), go.Scatter(visible=False), go.Scatter(visible=False),\n",
    "        go.Scatter(visible=False), go.Scatter(visible=False)\n",
    "    ]),\n",
    "    # Frame 2: Show Subtraction (v1 is now FALSE)\n",
    "    go.Frame(name='Step 3: Find Orthogonal Component', data=[\n",
    "        go.Scatter(visible=False), go.Scatter(visible=True), # Hide v1\n",
    "        go.Scatter(visible=False), go.Scatter(visible=True),\n",
    "        go.Scatter(visible=True), go.Scatter(visible=True), go.Scatter(visible=True),\n",
    "        go.Scatter(visible=False), go.Scatter(visible=False)\n",
    "    ]),\n",
    "    # Frame 3: Show Final Orthogonal Basis\n",
    "    go.Frame(name='Step 4: Final Orthogonal Basis', data=[\n",
    "        go.Scatter(visible=False), go.Scatter(visible=False),\n",
    "        go.Scatter(visible=False), go.Scatter(visible=False),\n",
    "        go.Scatter(visible=False), go.Scatter(visible=False), go.Scatter(visible=False),\n",
    "        go.Scatter(visible=True), go.Scatter(visible=True) # Show final basis\n",
    "    ])\n",
    "]\n",
    "\n",
    "# --- 4. Update figure with frames, slider, and new axis range ---\n",
    "\n",
    "fig.frames = frames\n",
    "fig.update_layout(\n",
    "    title=\"Animation of Gram-Schmidt Orthogonalization\",\n",
    "    updatemenus=[{\n",
    "        \"type\": \"buttons\", \"buttons\": [{\"label\": \"Start\", \"method\": \"animate\", \"args\": [None, {\"frame\": {\"duration\": 1500}}]}]\n",
    "    }],\n",
    "    sliders=[{\n",
    "        \"steps\": [\n",
    "            {\"label\": \"Initial\", \"method\": \"animate\", \"args\": [['Step 1: Initial Vectors']]},\n",
    "            {\"label\": \"Project\", \"method\": \"animate\", \"args\": [['Step 2: Project u2 onto v1']]},\n",
    "            {\"label\": \"Subtract\", \"method\": \"animate\", \"args\": [['Step 3: Find Orthogonal Component']]},\n",
    "            {\"label\": \"Final\", \"method\": \"animate\", \"args\": [['Step 4: Final Orthogonal Basis']]}\n",
    "        ]\n",
    "    }],\n",
    "    xaxis=dict(range=[-1, 5], dtick=1),\n",
    "    # CHANGED Y-AXIS RANGE HERE\n",
    "    yaxis=dict(range=[-2, 5], dtick=1, scaleanchor=\"x\")\n",
    ")\n",
    "\n",
    "fig.show()"
   ]
  },
  {
   "cell_type": "code",
   "execution_count": 33,
   "id": "b99c1f1e",
   "metadata": {},
   "outputs": [
    {
     "data": {
      "application/vnd.plotly.v1+json": {
       "config": {
        "plotlyServerURL": "https://plot.ly"
       },
       "data": [
        {
         "line": {
          "color": "blue"
         },
         "mode": "lines+markers",
         "name": "v1 (start)",
         "type": "scatter",
         "x": [
          0,
          1
         ],
         "y": [
          0,
          2
         ]
        },
        {
         "line": {
          "color": "green"
         },
         "mode": "lines+markers",
         "name": "u2 (start)",
         "type": "scatter",
         "x": [
          0,
          2
         ],
         "y": [
          0,
          2
         ]
        },
        {
         "line": {
          "color": "grey",
          "dash": "dot"
         },
         "mode": "lines",
         "name": "Projection Line",
         "type": "scatter",
         "visible": false,
         "x": [
          2,
          1.2
         ],
         "y": [
          2,
          2.4
         ]
        },
        {
         "line": {
          "color": "red",
          "dash": "dash"
         },
         "mode": "lines+markers",
         "name": "proj(u2 on v1)",
         "type": "scatter",
         "visible": false,
         "x": [
          0,
          1.2
         ],
         "y": [
          0,
          2.4
         ]
        },
        {
         "line": {
          "color": "purple",
          "width": 4
         },
         "mode": "lines+markers",
         "name": "v2 = u2 - proj",
         "type": "scatter",
         "visible": false,
         "x": [
          0,
          0.8
         ],
         "y": [
          0,
          -0.3999999999999999
         ]
        },
        {
         "line": {
          "color": "lightgrey",
          "dash": "dot"
         },
         "mode": "lines",
         "showlegend": false,
         "type": "scatter",
         "visible": false,
         "x": [
          2,
          0.8
         ],
         "y": [
          2,
          -0.3999999999999999
         ]
        },
        {
         "line": {
          "color": "lightgrey",
          "dash": "dot"
         },
         "mode": "lines",
         "showlegend": false,
         "type": "scatter",
         "visible": false,
         "x": [
          1.2,
          2
         ],
         "y": [
          2.4,
          2
         ]
        },
        {
         "line": {
          "color": "blue",
          "width": 4
         },
         "mode": "lines+markers",
         "name": "v1 (final)",
         "type": "scatter",
         "visible": false,
         "x": [
          0,
          1
         ],
         "y": [
          0,
          2
         ]
        },
        {
         "line": {
          "color": "purple",
          "width": 4
         },
         "mode": "lines+markers",
         "name": "v2 (final)",
         "type": "scatter",
         "visible": false,
         "x": [
          0,
          0.8
         ],
         "y": [
          0,
          -0.3999999999999999
         ]
        }
       ],
       "frames": [
        {
         "data": [
          {
           "type": "scatter",
           "visible": true
          },
          {
           "type": "scatter",
           "visible": true
          },
          {
           "type": "scatter",
           "visible": false
          },
          {
           "type": "scatter",
           "visible": false
          },
          {
           "type": "scatter",
           "visible": false
          },
          {
           "type": "scatter",
           "visible": false
          },
          {
           "type": "scatter",
           "visible": false
          },
          {
           "type": "scatter",
           "visible": false
          },
          {
           "type": "scatter",
           "visible": false
          }
         ],
         "name": "Step 1: Initial Vectors"
        },
        {
         "data": [
          {
           "type": "scatter",
           "visible": false
          },
          {
           "type": "scatter",
           "visible": true
          },
          {
           "type": "scatter",
           "visible": true
          },
          {
           "type": "scatter",
           "visible": true
          },
          {
           "type": "scatter",
           "visible": false
          },
          {
           "type": "scatter",
           "visible": false
          },
          {
           "type": "scatter",
           "visible": false
          },
          {
           "type": "scatter",
           "visible": false
          },
          {
           "type": "scatter",
           "visible": false
          }
         ],
         "name": "Step 2: Project u2 onto v1"
        },
        {
         "data": [
          {
           "type": "scatter",
           "visible": false
          },
          {
           "type": "scatter",
           "visible": true
          },
          {
           "type": "scatter",
           "visible": false
          },
          {
           "type": "scatter",
           "visible": true
          },
          {
           "type": "scatter",
           "visible": true
          },
          {
           "type": "scatter",
           "visible": true
          },
          {
           "type": "scatter",
           "visible": true
          },
          {
           "type": "scatter",
           "visible": false
          },
          {
           "type": "scatter",
           "visible": false
          }
         ],
         "name": "Step 3: Find Orthogonal Component"
        },
        {
         "data": [
          {
           "type": "scatter",
           "visible": false
          },
          {
           "type": "scatter",
           "visible": false
          },
          {
           "type": "scatter",
           "visible": false
          },
          {
           "type": "scatter",
           "visible": false
          },
          {
           "type": "scatter",
           "visible": false
          },
          {
           "type": "scatter",
           "visible": false
          },
          {
           "type": "scatter",
           "visible": false
          },
          {
           "type": "scatter",
           "visible": true
          },
          {
           "type": "scatter",
           "visible": true
          }
         ],
         "name": "Step 4: Final Orthogonal Basis"
        }
       ],
       "layout": {
        "sliders": [
         {
          "steps": [
           {
            "args": [
             [
              "Step 1: Initial Vectors"
             ]
            ],
            "label": "Initial",
            "method": "animate"
           },
           {
            "args": [
             [
              "Step 2: Project u2 onto v1"
             ]
            ],
            "label": "Project",
            "method": "animate"
           },
           {
            "args": [
             [
              "Step 3: Find Orthogonal Component"
             ]
            ],
            "label": "Subtract",
            "method": "animate"
           },
           {
            "args": [
             [
              "Step 4: Final Orthogonal Basis"
             ]
            ],
            "label": "Final",
            "method": "animate"
           }
          ]
         }
        ],
        "template": {
         "data": {
          "bar": [
           {
            "error_x": {
             "color": "#2a3f5f"
            },
            "error_y": {
             "color": "#2a3f5f"
            },
            "marker": {
             "line": {
              "color": "#E5ECF6",
              "width": 0.5
             },
             "pattern": {
              "fillmode": "overlay",
              "size": 10,
              "solidity": 0.2
             }
            },
            "type": "bar"
           }
          ],
          "barpolar": [
           {
            "marker": {
             "line": {
              "color": "#E5ECF6",
              "width": 0.5
             },
             "pattern": {
              "fillmode": "overlay",
              "size": 10,
              "solidity": 0.2
             }
            },
            "type": "barpolar"
           }
          ],
          "carpet": [
           {
            "aaxis": {
             "endlinecolor": "#2a3f5f",
             "gridcolor": "white",
             "linecolor": "white",
             "minorgridcolor": "white",
             "startlinecolor": "#2a3f5f"
            },
            "baxis": {
             "endlinecolor": "#2a3f5f",
             "gridcolor": "white",
             "linecolor": "white",
             "minorgridcolor": "white",
             "startlinecolor": "#2a3f5f"
            },
            "type": "carpet"
           }
          ],
          "choropleth": [
           {
            "colorbar": {
             "outlinewidth": 0,
             "ticks": ""
            },
            "type": "choropleth"
           }
          ],
          "contour": [
           {
            "colorbar": {
             "outlinewidth": 0,
             "ticks": ""
            },
            "colorscale": [
             [
              0,
              "#0d0887"
             ],
             [
              0.1111111111111111,
              "#46039f"
             ],
             [
              0.2222222222222222,
              "#7201a8"
             ],
             [
              0.3333333333333333,
              "#9c179e"
             ],
             [
              0.4444444444444444,
              "#bd3786"
             ],
             [
              0.5555555555555556,
              "#d8576b"
             ],
             [
              0.6666666666666666,
              "#ed7953"
             ],
             [
              0.7777777777777778,
              "#fb9f3a"
             ],
             [
              0.8888888888888888,
              "#fdca26"
             ],
             [
              1,
              "#f0f921"
             ]
            ],
            "type": "contour"
           }
          ],
          "contourcarpet": [
           {
            "colorbar": {
             "outlinewidth": 0,
             "ticks": ""
            },
            "type": "contourcarpet"
           }
          ],
          "heatmap": [
           {
            "colorbar": {
             "outlinewidth": 0,
             "ticks": ""
            },
            "colorscale": [
             [
              0,
              "#0d0887"
             ],
             [
              0.1111111111111111,
              "#46039f"
             ],
             [
              0.2222222222222222,
              "#7201a8"
             ],
             [
              0.3333333333333333,
              "#9c179e"
             ],
             [
              0.4444444444444444,
              "#bd3786"
             ],
             [
              0.5555555555555556,
              "#d8576b"
             ],
             [
              0.6666666666666666,
              "#ed7953"
             ],
             [
              0.7777777777777778,
              "#fb9f3a"
             ],
             [
              0.8888888888888888,
              "#fdca26"
             ],
             [
              1,
              "#f0f921"
             ]
            ],
            "type": "heatmap"
           }
          ],
          "histogram": [
           {
            "marker": {
             "pattern": {
              "fillmode": "overlay",
              "size": 10,
              "solidity": 0.2
             }
            },
            "type": "histogram"
           }
          ],
          "histogram2d": [
           {
            "colorbar": {
             "outlinewidth": 0,
             "ticks": ""
            },
            "colorscale": [
             [
              0,
              "#0d0887"
             ],
             [
              0.1111111111111111,
              "#46039f"
             ],
             [
              0.2222222222222222,
              "#7201a8"
             ],
             [
              0.3333333333333333,
              "#9c179e"
             ],
             [
              0.4444444444444444,
              "#bd3786"
             ],
             [
              0.5555555555555556,
              "#d8576b"
             ],
             [
              0.6666666666666666,
              "#ed7953"
             ],
             [
              0.7777777777777778,
              "#fb9f3a"
             ],
             [
              0.8888888888888888,
              "#fdca26"
             ],
             [
              1,
              "#f0f921"
             ]
            ],
            "type": "histogram2d"
           }
          ],
          "histogram2dcontour": [
           {
            "colorbar": {
             "outlinewidth": 0,
             "ticks": ""
            },
            "colorscale": [
             [
              0,
              "#0d0887"
             ],
             [
              0.1111111111111111,
              "#46039f"
             ],
             [
              0.2222222222222222,
              "#7201a8"
             ],
             [
              0.3333333333333333,
              "#9c179e"
             ],
             [
              0.4444444444444444,
              "#bd3786"
             ],
             [
              0.5555555555555556,
              "#d8576b"
             ],
             [
              0.6666666666666666,
              "#ed7953"
             ],
             [
              0.7777777777777778,
              "#fb9f3a"
             ],
             [
              0.8888888888888888,
              "#fdca26"
             ],
             [
              1,
              "#f0f921"
             ]
            ],
            "type": "histogram2dcontour"
           }
          ],
          "mesh3d": [
           {
            "colorbar": {
             "outlinewidth": 0,
             "ticks": ""
            },
            "type": "mesh3d"
           }
          ],
          "parcoords": [
           {
            "line": {
             "colorbar": {
              "outlinewidth": 0,
              "ticks": ""
             }
            },
            "type": "parcoords"
           }
          ],
          "pie": [
           {
            "automargin": true,
            "type": "pie"
           }
          ],
          "scatter": [
           {
            "fillpattern": {
             "fillmode": "overlay",
             "size": 10,
             "solidity": 0.2
            },
            "type": "scatter"
           }
          ],
          "scatter3d": [
           {
            "line": {
             "colorbar": {
              "outlinewidth": 0,
              "ticks": ""
             }
            },
            "marker": {
             "colorbar": {
              "outlinewidth": 0,
              "ticks": ""
             }
            },
            "type": "scatter3d"
           }
          ],
          "scattercarpet": [
           {
            "marker": {
             "colorbar": {
              "outlinewidth": 0,
              "ticks": ""
             }
            },
            "type": "scattercarpet"
           }
          ],
          "scattergeo": [
           {
            "marker": {
             "colorbar": {
              "outlinewidth": 0,
              "ticks": ""
             }
            },
            "type": "scattergeo"
           }
          ],
          "scattergl": [
           {
            "marker": {
             "colorbar": {
              "outlinewidth": 0,
              "ticks": ""
             }
            },
            "type": "scattergl"
           }
          ],
          "scattermap": [
           {
            "marker": {
             "colorbar": {
              "outlinewidth": 0,
              "ticks": ""
             }
            },
            "type": "scattermap"
           }
          ],
          "scattermapbox": [
           {
            "marker": {
             "colorbar": {
              "outlinewidth": 0,
              "ticks": ""
             }
            },
            "type": "scattermapbox"
           }
          ],
          "scatterpolar": [
           {
            "marker": {
             "colorbar": {
              "outlinewidth": 0,
              "ticks": ""
             }
            },
            "type": "scatterpolar"
           }
          ],
          "scatterpolargl": [
           {
            "marker": {
             "colorbar": {
              "outlinewidth": 0,
              "ticks": ""
             }
            },
            "type": "scatterpolargl"
           }
          ],
          "scatterternary": [
           {
            "marker": {
             "colorbar": {
              "outlinewidth": 0,
              "ticks": ""
             }
            },
            "type": "scatterternary"
           }
          ],
          "surface": [
           {
            "colorbar": {
             "outlinewidth": 0,
             "ticks": ""
            },
            "colorscale": [
             [
              0,
              "#0d0887"
             ],
             [
              0.1111111111111111,
              "#46039f"
             ],
             [
              0.2222222222222222,
              "#7201a8"
             ],
             [
              0.3333333333333333,
              "#9c179e"
             ],
             [
              0.4444444444444444,
              "#bd3786"
             ],
             [
              0.5555555555555556,
              "#d8576b"
             ],
             [
              0.6666666666666666,
              "#ed7953"
             ],
             [
              0.7777777777777778,
              "#fb9f3a"
             ],
             [
              0.8888888888888888,
              "#fdca26"
             ],
             [
              1,
              "#f0f921"
             ]
            ],
            "type": "surface"
           }
          ],
          "table": [
           {
            "cells": {
             "fill": {
              "color": "#EBF0F8"
             },
             "line": {
              "color": "white"
             }
            },
            "header": {
             "fill": {
              "color": "#C8D4E3"
             },
             "line": {
              "color": "white"
             }
            },
            "type": "table"
           }
          ]
         },
         "layout": {
          "annotationdefaults": {
           "arrowcolor": "#2a3f5f",
           "arrowhead": 0,
           "arrowwidth": 1
          },
          "autotypenumbers": "strict",
          "coloraxis": {
           "colorbar": {
            "outlinewidth": 0,
            "ticks": ""
           }
          },
          "colorscale": {
           "diverging": [
            [
             0,
             "#8e0152"
            ],
            [
             0.1,
             "#c51b7d"
            ],
            [
             0.2,
             "#de77ae"
            ],
            [
             0.3,
             "#f1b6da"
            ],
            [
             0.4,
             "#fde0ef"
            ],
            [
             0.5,
             "#f7f7f7"
            ],
            [
             0.6,
             "#e6f5d0"
            ],
            [
             0.7,
             "#b8e186"
            ],
            [
             0.8,
             "#7fbc41"
            ],
            [
             0.9,
             "#4d9221"
            ],
            [
             1,
             "#276419"
            ]
           ],
           "sequential": [
            [
             0,
             "#0d0887"
            ],
            [
             0.1111111111111111,
             "#46039f"
            ],
            [
             0.2222222222222222,
             "#7201a8"
            ],
            [
             0.3333333333333333,
             "#9c179e"
            ],
            [
             0.4444444444444444,
             "#bd3786"
            ],
            [
             0.5555555555555556,
             "#d8576b"
            ],
            [
             0.6666666666666666,
             "#ed7953"
            ],
            [
             0.7777777777777778,
             "#fb9f3a"
            ],
            [
             0.8888888888888888,
             "#fdca26"
            ],
            [
             1,
             "#f0f921"
            ]
           ],
           "sequentialminus": [
            [
             0,
             "#0d0887"
            ],
            [
             0.1111111111111111,
             "#46039f"
            ],
            [
             0.2222222222222222,
             "#7201a8"
            ],
            [
             0.3333333333333333,
             "#9c179e"
            ],
            [
             0.4444444444444444,
             "#bd3786"
            ],
            [
             0.5555555555555556,
             "#d8576b"
            ],
            [
             0.6666666666666666,
             "#ed7953"
            ],
            [
             0.7777777777777778,
             "#fb9f3a"
            ],
            [
             0.8888888888888888,
             "#fdca26"
            ],
            [
             1,
             "#f0f921"
            ]
           ]
          },
          "colorway": [
           "#636efa",
           "#EF553B",
           "#00cc96",
           "#ab63fa",
           "#FFA15A",
           "#19d3f3",
           "#FF6692",
           "#B6E880",
           "#FF97FF",
           "#FECB52"
          ],
          "font": {
           "color": "#2a3f5f"
          },
          "geo": {
           "bgcolor": "white",
           "lakecolor": "white",
           "landcolor": "#E5ECF6",
           "showlakes": true,
           "showland": true,
           "subunitcolor": "white"
          },
          "hoverlabel": {
           "align": "left"
          },
          "hovermode": "closest",
          "mapbox": {
           "style": "light"
          },
          "paper_bgcolor": "white",
          "plot_bgcolor": "#E5ECF6",
          "polar": {
           "angularaxis": {
            "gridcolor": "white",
            "linecolor": "white",
            "ticks": ""
           },
           "bgcolor": "#E5ECF6",
           "radialaxis": {
            "gridcolor": "white",
            "linecolor": "white",
            "ticks": ""
           }
          },
          "scene": {
           "xaxis": {
            "backgroundcolor": "#E5ECF6",
            "gridcolor": "white",
            "gridwidth": 2,
            "linecolor": "white",
            "showbackground": true,
            "ticks": "",
            "zerolinecolor": "white"
           },
           "yaxis": {
            "backgroundcolor": "#E5ECF6",
            "gridcolor": "white",
            "gridwidth": 2,
            "linecolor": "white",
            "showbackground": true,
            "ticks": "",
            "zerolinecolor": "white"
           },
           "zaxis": {
            "backgroundcolor": "#E5ECF6",
            "gridcolor": "white",
            "gridwidth": 2,
            "linecolor": "white",
            "showbackground": true,
            "ticks": "",
            "zerolinecolor": "white"
           }
          },
          "shapedefaults": {
           "line": {
            "color": "#2a3f5f"
           }
          },
          "ternary": {
           "aaxis": {
            "gridcolor": "white",
            "linecolor": "white",
            "ticks": ""
           },
           "baxis": {
            "gridcolor": "white",
            "linecolor": "white",
            "ticks": ""
           },
           "bgcolor": "#E5ECF6",
           "caxis": {
            "gridcolor": "white",
            "linecolor": "white",
            "ticks": ""
           }
          },
          "title": {
           "x": 0.05
          },
          "xaxis": {
           "automargin": true,
           "gridcolor": "white",
           "linecolor": "white",
           "ticks": "",
           "title": {
            "standoff": 15
           },
           "zerolinecolor": "white",
           "zerolinewidth": 2
          },
          "yaxis": {
           "automargin": true,
           "gridcolor": "white",
           "linecolor": "white",
           "ticks": "",
           "title": {
            "standoff": 15
           },
           "zerolinecolor": "white",
           "zerolinewidth": 2
          }
         }
        },
        "title": {
         "text": "Animation of Gram-Schmidt Orthogonalization"
        },
        "updatemenus": [
         {
          "buttons": [
           {
            "args": [
             null,
             {
              "frame": {
               "duration": 1500
              }
             }
            ],
            "label": "Start",
            "method": "animate"
           }
          ],
          "type": "buttons"
         }
        ],
        "xaxis": {
         "dtick": 1,
         "range": [
          -1.5,
          3.5
         ]
        },
        "yaxis": {
         "dtick": 1,
         "range": [
          -1.9,
          3.9
         ],
         "scaleanchor": "x"
        }
       }
      }
     },
     "metadata": {},
     "output_type": "display_data"
    }
   ],
   "source": [
    "import plotly.graph_objects as go\n",
    "import numpy as np\n",
    "\n",
    "# --- 1. Setup and Calculations ---\n",
    "\n",
    "# You can change these vectors, and the plot range will adjust automatically\n",
    "u1 = np.array([1, 2])\n",
    "u2 = np.array([2, 2])\n",
    "\n",
    "v1 = u1\n",
    "dot_product = np.dot(u2, v1)\n",
    "v1_mag_sq = np.dot(v1, v1)\n",
    "proj_u2_on_v1 = (dot_product / v1_mag_sq) * v1\n",
    "v2 = u2 - proj_u2_on_v1\n",
    "\n",
    "\n",
    "# --- NEW: Dynamically calculate the plot range ---\n",
    "# Collect all x and y coordinates that will be plotted\n",
    "all_points = np.array([\n",
    "    [0, 0], # Origin\n",
    "    v1,\n",
    "    u2,\n",
    "    proj_u2_on_v1,\n",
    "    v2\n",
    "])\n",
    "x_coords = all_points[:, 0]\n",
    "y_coords = all_points[:, 1]\n",
    "\n",
    "# Calculate the min and max, then add padding\n",
    "padding = 1.5\n",
    "x_range = [min(x_coords) - padding, max(x_coords) + padding]\n",
    "y_range = [min(y_coords) - padding, max(y_coords) + padding]\n",
    "\n",
    "\n",
    "# --- 2. Create all plot components (traces) ---\n",
    "\n",
    "fig = go.Figure()\n",
    "\n",
    "# Add all traces to the figure\n",
    "fig.add_trace(go.Scatter(x=[0, v1[0]], y=[0, v1[1]], mode='lines+markers', name='v1 (start)', line=dict(color='blue')))\n",
    "fig.add_trace(go.Scatter(x=[0, u2[0]], y=[0, u2[1]], mode='lines+markers', name='u2 (start)', line=dict(color='green')))\n",
    "fig.add_trace(go.Scatter(x=[u2[0], proj_u2_on_v1[0]], y=[u2[1], proj_u2_on_v1[1]], mode='lines', name='Projection Line', line=dict(color='grey', dash='dot'), visible=False))\n",
    "fig.add_trace(go.Scatter(x=[0, proj_u2_on_v1[0]], y=[0, proj_u2_on_v1[1]], mode='lines+markers', name='proj(u2 on v1)', line=dict(color='red', dash='dash'), visible=False))\n",
    "fig.add_trace(go.Scatter(x=[0, v2[0]], y=[0, v2[1]], mode='lines+markers', name='v2 = u2 - proj', line=dict(color='purple', width=4), visible=False))\n",
    "fig.add_trace(go.Scatter(x=[u2[0], v2[0]], y=[u2[1], v2[1]], mode='lines', line=dict(dash='dot', color='lightgrey'), showlegend=False, visible=False))\n",
    "fig.add_trace(go.Scatter(x=[proj_u2_on_v1[0], u2[0]], y=[proj_u2_on_v1[1], u2[1]], mode='lines', line=dict(dash='dot', color='lightgrey'), showlegend=False, visible=False))\n",
    "fig.add_trace(go.Scatter(x=[0, v1[0]], y=[0, v1[1]], mode='lines+markers', name='v1 (final)', line=dict(color='blue', width=4), visible=False))\n",
    "fig.add_trace(go.Scatter(x=[0, v2[0]], y=[0, v2[1]], mode='lines+markers', name='v2 (final)', line=dict(color='purple', width=4), visible=False))\n",
    "\n",
    "\n",
    "# --- 3. Define the animation frames ---\n",
    "\n",
    "frames = [\n",
    "    go.Frame(name='Step 1: Initial Vectors', data=[go.Scatter(visible=True), go.Scatter(visible=True), go.Scatter(visible=False), go.Scatter(visible=False), go.Scatter(visible=False), go.Scatter(visible=False), go.Scatter(visible=False), go.Scatter(visible=False), go.Scatter(visible=False)]),\n",
    "    go.Frame(name='Step 2: Project u2 onto v1', data=[go.Scatter(visible=False), go.Scatter(visible=True), go.Scatter(visible=True), go.Scatter(visible=True), go.Scatter(visible=False), go.Scatter(visible=False), go.Scatter(visible=False), go.Scatter(visible=False), go.Scatter(visible=False)]),\n",
    "    go.Frame(name='Step 3: Find Orthogonal Component', data=[go.Scatter(visible=False), go.Scatter(visible=True), go.Scatter(visible=False), go.Scatter(visible=True), go.Scatter(visible=True), go.Scatter(visible=True), go.Scatter(visible=True), go.Scatter(visible=False), go.Scatter(visible=False)]),\n",
    "    go.Frame(name='Step 4: Final Orthogonal Basis', data=[go.Scatter(visible=False), go.Scatter(visible=False), go.Scatter(visible=False), go.Scatter(visible=False), go.Scatter(visible=False), go.Scatter(visible=False), go.Scatter(visible=False), go.Scatter(visible=True), go.Scatter(visible=True)])\n",
    "]\n",
    "\n",
    "\n",
    "# --- 4. Update figure with frames and dynamic ranges ---\n",
    "\n",
    "fig.frames = frames\n",
    "fig.update_layout(\n",
    "    title=\"Animation of Gram-Schmidt Orthogonalization\",\n",
    "    updatemenus=[{\n",
    "        \"type\": \"buttons\", \"buttons\": [{\"label\": \"Start\", \"method\": \"animate\", \"args\": [None, {\"frame\": {\"duration\": 1500}}]}]\n",
    "    }],\n",
    "    sliders=[{\n",
    "        \"steps\": [\n",
    "            {\"label\": \"Initial\", \"method\": \"animate\", \"args\": [['Step 1: Initial Vectors']]},\n",
    "            {\"label\": \"Project\", \"method\": \"animate\", \"args\": [['Step 2: Project u2 onto v1']]},\n",
    "            {\"label\": \"Subtract\", \"method\": \"animate\", \"args\": [['Step 3: Find Orthogonal Component']]},\n",
    "            {\"label\": \"Final\", \"method\": \"animate\", \"args\": [['Step 4: Final Orthogonal Basis']]}\n",
    "        ]\n",
    "    }],\n",
    "    # Use the calculated dynamic ranges here\n",
    "    xaxis=dict(range=x_range, dtick=1),\n",
    "    yaxis=dict(range=y_range, dtick=1, scaleanchor=\"x\")\n",
    ")\n",
    "\n",
    "fig.show()"
   ]
  },
  {
   "cell_type": "markdown",
   "id": "dd697130",
   "metadata": {},
   "source": [
    "### 3D Gram-Schmidt Orthogonalization\n",
    "\n",
    "This animation demonstrates the **Gram-Schmidt process in 3D** using three linearly independent vectors `u1`, `u2`, and `u3`. The goal is to create an **orthogonal basis** `v1`, `v2`, `v3`.\n",
    "\n",
    "### Steps Illustrated:\n",
    "\n",
    "1. **Initial Vectors:** `u1`, `u2`, and `u3` are plotted from the origin.  \n",
    "2. **First Orthogonal Vector:** `v1` is set to `u1`.  \n",
    "3. **Second Orthogonal Vector:** `u2` is projected onto `v1`, and the orthogonal component `v2 = u2 - proj(u2 on v1)` is computed.  \n",
    "4. **Third Orthogonal Vector:** `u3` is projected onto the plane spanned by `v1` and `v2`. Subtracting this projection gives `v3`, orthogonal to both `v1` and `v2`.  \n",
    "5. **Final Orthogonal Basis:** `v1`, `v2`, and `v3` form a complete **orthogonal basis** for the 3D space spanned by the original vectors.\n",
    "\n",
    "### Key Features:\n",
    "\n",
    "- **3D Visualization:** Helps students intuitively see how each vector is orthogonalized.  \n",
    "- **Animation Steps:** Each frame highlights a stage of the Gram-Schmidt process.  \n",
    "- **Helper Lines:** Show projections and the geometric relationships between vectors.\n"
   ]
  },
  {
   "cell_type": "code",
   "execution_count": 34,
   "id": "a010653f",
   "metadata": {},
   "outputs": [
    {
     "data": {
      "application/vnd.plotly.v1+json": {
       "config": {
        "plotlyServerURL": "https://plot.ly"
       },
       "data": [
        {
         "line": {
          "color": "blue",
          "width": 7
         },
         "mode": "lines",
         "name": "u1",
         "type": "scatter3d",
         "visible": true,
         "x": [
          0,
          2
         ],
         "y": [
          0,
          2
         ],
         "z": [
          0,
          0
         ]
        },
        {
         "line": {
          "color": "green",
          "width": 7
         },
         "mode": "lines",
         "name": "u2",
         "type": "scatter3d",
         "visible": true,
         "x": [
          0,
          3
         ],
         "y": [
          0,
          0
         ],
         "z": [
          0,
          1
         ]
        },
        {
         "line": {
          "color": "goldenrod",
          "width": 7
         },
         "mode": "lines",
         "name": "u3",
         "type": "scatter3d",
         "visible": true,
         "x": [
          0,
          1
         ],
         "y": [
          0,
          2
         ],
         "z": [
          0,
          3
         ]
        },
        {
         "line": {
          "color": "red",
          "dash": "dash",
          "width": 7
         },
         "mode": "lines",
         "name": "proj(u2 on v1)",
         "type": "scatter3d",
         "visible": false,
         "x": [
          0,
          1.5
         ],
         "y": [
          0,
          1.5
         ],
         "z": [
          0,
          0
         ]
        },
        {
         "line": {
          "color": "purple",
          "width": 7
         },
         "mode": "lines",
         "name": "v2",
         "type": "scatter3d",
         "visible": false,
         "x": [
          0,
          1.5
         ],
         "y": [
          0,
          -1.5
         ],
         "z": [
          0,
          1
         ]
        },
        {
         "line": {
          "color": "grey",
          "dash": "dot"
         },
         "mode": "lines",
         "showlegend": false,
         "type": "scatter3d",
         "visible": false,
         "x": [
          3,
          1.5
         ],
         "y": [
          0,
          1.5
         ],
         "z": [
          1,
          0
         ]
        },
        {
         "line": {
          "color": "red",
          "dash": "dash",
          "width": 7
         },
         "mode": "lines",
         "name": "proj(u3 on v1)",
         "type": "scatter3d",
         "visible": false,
         "x": [
          0,
          1.5
         ],
         "y": [
          0,
          1.5
         ],
         "z": [
          0,
          0
         ]
        },
        {
         "line": {
          "color": "orange",
          "dash": "dash",
          "width": 7
         },
         "mode": "lines",
         "name": "proj(u3 on v2)",
         "type": "scatter3d",
         "visible": false,
         "x": [
          0,
          0.40909090909090906
         ],
         "y": [
          0,
          -0.40909090909090906
         ],
         "z": [
          0,
          0.2727272727272727
         ]
        },
        {
         "line": {
          "color": "magenta",
          "dash": "dash",
          "width": 7
         },
         "mode": "lines",
         "name": "sum of projs",
         "type": "scatter3d",
         "visible": false,
         "x": [
          0,
          1.9090909090909092
         ],
         "y": [
          0,
          1.0909090909090908
         ],
         "z": [
          0,
          0.2727272727272727
         ]
        },
        {
         "line": {
          "color": "cyan",
          "width": 7
         },
         "mode": "lines",
         "name": "v3",
         "type": "scatter3d",
         "visible": false,
         "x": [
          0,
          -0.9090909090909092
         ],
         "y": [
          0,
          0.9090909090909092
         ],
         "z": [
          0,
          2.7272727272727275
         ]
        },
        {
         "line": {
          "color": "grey",
          "dash": "dot"
         },
         "mode": "lines",
         "showlegend": false,
         "type": "scatter3d",
         "visible": false,
         "x": [
          1,
          1.9090909090909092
         ],
         "y": [
          2,
          1.0909090909090908
         ],
         "z": [
          3,
          0.2727272727272727
         ]
        },
        {
         "line": {
          "color": "grey",
          "dash": "dot"
         },
         "mode": "lines",
         "showlegend": false,
         "type": "scatter3d",
         "visible": false,
         "x": [
          1.5,
          1.9090909090909092
         ],
         "y": [
          1.5,
          1.0909090909090908
         ],
         "z": [
          0,
          0.2727272727272727
         ]
        },
        {
         "line": {
          "color": "grey",
          "dash": "dot"
         },
         "mode": "lines",
         "showlegend": false,
         "type": "scatter3d",
         "visible": false,
         "x": [
          0.40909090909090906,
          1.9090909090909092
         ],
         "y": [
          -0.40909090909090906,
          1.0909090909090908
         ],
         "z": [
          0.2727272727272727,
          0.2727272727272727
         ]
        },
        {
         "line": {
          "color": "blue",
          "width": 10
         },
         "mode": "lines",
         "name": "v1 (final)",
         "type": "scatter3d",
         "visible": false,
         "x": [
          0,
          2
         ],
         "y": [
          0,
          2
         ],
         "z": [
          0,
          0
         ]
        },
        {
         "line": {
          "color": "purple",
          "width": 10
         },
         "mode": "lines",
         "name": "v2 (final)",
         "type": "scatter3d",
         "visible": false,
         "x": [
          0,
          1.5
         ],
         "y": [
          0,
          -1.5
         ],
         "z": [
          0,
          1
         ]
        },
        {
         "line": {
          "color": "cyan",
          "width": 10
         },
         "mode": "lines",
         "name": "v3 (final)",
         "type": "scatter3d",
         "visible": false,
         "x": [
          0,
          -0.9090909090909092
         ],
         "y": [
          0,
          0.9090909090909092
         ],
         "z": [
          0,
          2.7272727272727275
         ]
        }
       ],
       "frames": [
        {
         "data": [
          {
           "type": "scatter3d",
           "visible": true
          },
          {
           "type": "scatter3d",
           "visible": true
          },
          {
           "type": "scatter3d",
           "visible": true
          },
          {
           "type": "scatter3d",
           "visible": false
          },
          {
           "type": "scatter3d",
           "visible": false
          },
          {
           "type": "scatter3d",
           "visible": false
          },
          {
           "type": "scatter3d",
           "visible": false
          },
          {
           "type": "scatter3d",
           "visible": false
          },
          {
           "type": "scatter3d",
           "visible": false
          },
          {
           "type": "scatter3d",
           "visible": false
          },
          {
           "type": "scatter3d",
           "visible": false
          },
          {
           "type": "scatter3d",
           "visible": false
          },
          {
           "type": "scatter3d",
           "visible": false
          },
          {
           "type": "scatter3d",
           "visible": false
          },
          {
           "type": "scatter3d",
           "visible": false
          },
          {
           "type": "scatter3d",
           "visible": false
          }
         ],
         "name": "Initial Vectors"
        },
        {
         "data": [
          {
           "type": "scatter3d",
           "visible": true
          },
          {
           "type": "scatter3d",
           "visible": true
          },
          {
           "type": "scatter3d",
           "visible": false
          },
          {
           "type": "scatter3d",
           "visible": true
          },
          {
           "type": "scatter3d",
           "visible": false
          },
          {
           "type": "scatter3d",
           "visible": true
          },
          {
           "type": "scatter3d",
           "visible": false
          },
          {
           "type": "scatter3d",
           "visible": false
          },
          {
           "type": "scatter3d",
           "visible": false
          },
          {
           "type": "scatter3d",
           "visible": false
          },
          {
           "type": "scatter3d",
           "visible": false
          },
          {
           "type": "scatter3d",
           "visible": false
          },
          {
           "type": "scatter3d",
           "visible": false
          },
          {
           "type": "scatter3d",
           "visible": false
          },
          {
           "type": "scatter3d",
           "visible": false
          },
          {
           "type": "scatter3d",
           "visible": false
          }
         ],
         "name": "Project u2 on v1"
        },
        {
         "data": [
          {
           "type": "scatter3d",
           "visible": true
          },
          {
           "type": "scatter3d",
           "visible": true
          },
          {
           "type": "scatter3d",
           "visible": false
          },
          {
           "type": "scatter3d",
           "visible": true
          },
          {
           "type": "scatter3d",
           "visible": true
          },
          {
           "type": "scatter3d",
           "visible": true
          },
          {
           "type": "scatter3d",
           "visible": false
          },
          {
           "type": "scatter3d",
           "visible": false
          },
          {
           "type": "scatter3d",
           "visible": false
          },
          {
           "type": "scatter3d",
           "visible": false
          },
          {
           "type": "scatter3d",
           "visible": false
          },
          {
           "type": "scatter3d",
           "visible": false
          },
          {
           "type": "scatter3d",
           "visible": false
          },
          {
           "type": "scatter3d",
           "visible": false
          },
          {
           "type": "scatter3d",
           "visible": false
          },
          {
           "type": "scatter3d",
           "visible": false
          }
         ],
         "name": "Compute v2"
        },
        {
         "data": [
          {
           "type": "scatter3d",
           "visible": true
          },
          {
           "type": "scatter3d",
           "visible": false
          },
          {
           "type": "scatter3d",
           "visible": false
          },
          {
           "type": "scatter3d",
           "visible": false
          },
          {
           "type": "scatter3d",
           "visible": true
          },
          {
           "type": "scatter3d",
           "visible": false
          },
          {
           "type": "scatter3d",
           "visible": false
          },
          {
           "type": "scatter3d",
           "visible": false
          },
          {
           "type": "scatter3d",
           "visible": false
          },
          {
           "type": "scatter3d",
           "visible": false
          },
          {
           "type": "scatter3d",
           "visible": false
          },
          {
           "type": "scatter3d",
           "visible": false
          },
          {
           "type": "scatter3d",
           "visible": false
          },
          {
           "type": "scatter3d",
           "visible": false
          },
          {
           "type": "scatter3d",
           "visible": false
          },
          {
           "type": "scatter3d",
           "visible": false
          }
         ],
         "name": "First Two Orthogonal Vectors"
        },
        {
         "data": [
          {
           "type": "scatter3d",
           "visible": true
          },
          {
           "type": "scatter3d",
           "visible": false
          },
          {
           "type": "scatter3d",
           "visible": true
          },
          {
           "type": "scatter3d",
           "visible": false
          },
          {
           "type": "scatter3d",
           "visible": true
          },
          {
           "type": "scatter3d",
           "visible": false
          },
          {
           "type": "scatter3d",
           "visible": true
          },
          {
           "type": "scatter3d",
           "visible": true
          },
          {
           "type": "scatter3d",
           "visible": false
          },
          {
           "type": "scatter3d",
           "visible": false
          },
          {
           "type": "scatter3d",
           "visible": false
          },
          {
           "type": "scatter3d",
           "visible": false
          },
          {
           "type": "scatter3d",
           "visible": false
          },
          {
           "type": "scatter3d",
           "visible": false
          },
          {
           "type": "scatter3d",
           "visible": false
          },
          {
           "type": "scatter3d",
           "visible": false
          }
         ],
         "name": "Project u3 on v1 & v2"
        },
        {
         "data": [
          {
           "type": "scatter3d",
           "visible": true
          },
          {
           "type": "scatter3d",
           "visible": false
          },
          {
           "type": "scatter3d",
           "visible": true
          },
          {
           "type": "scatter3d",
           "visible": false
          },
          {
           "type": "scatter3d",
           "visible": true
          },
          {
           "type": "scatter3d",
           "visible": false
          },
          {
           "type": "scatter3d",
           "visible": true
          },
          {
           "type": "scatter3d",
           "visible": true
          },
          {
           "type": "scatter3d",
           "visible": true
          },
          {
           "type": "scatter3d",
           "visible": false
          },
          {
           "type": "scatter3d",
           "visible": false
          },
          {
           "type": "scatter3d",
           "visible": true
          },
          {
           "type": "scatter3d",
           "visible": true
          },
          {
           "type": "scatter3d",
           "visible": false
          },
          {
           "type": "scatter3d",
           "visible": false
          },
          {
           "type": "scatter3d",
           "visible": false
          }
         ],
         "name": "Sum of Projections"
        },
        {
         "data": [
          {
           "type": "scatter3d",
           "visible": true
          },
          {
           "type": "scatter3d",
           "visible": false
          },
          {
           "type": "scatter3d",
           "visible": true
          },
          {
           "type": "scatter3d",
           "visible": false
          },
          {
           "type": "scatter3d",
           "visible": true
          },
          {
           "type": "scatter3d",
           "visible": false
          },
          {
           "type": "scatter3d",
           "visible": false
          },
          {
           "type": "scatter3d",
           "visible": false
          },
          {
           "type": "scatter3d",
           "visible": true
          },
          {
           "type": "scatter3d",
           "visible": true
          },
          {
           "type": "scatter3d",
           "visible": true
          },
          {
           "type": "scatter3d",
           "visible": false
          },
          {
           "type": "scatter3d",
           "visible": false
          },
          {
           "type": "scatter3d",
           "visible": false
          },
          {
           "type": "scatter3d",
           "visible": false
          },
          {
           "type": "scatter3d",
           "visible": false
          }
         ],
         "name": "Compute v3"
        },
        {
         "data": [
          {
           "type": "scatter3d",
           "visible": false
          },
          {
           "type": "scatter3d",
           "visible": false
          },
          {
           "type": "scatter3d",
           "visible": false
          },
          {
           "type": "scatter3d",
           "visible": false
          },
          {
           "type": "scatter3d",
           "visible": false
          },
          {
           "type": "scatter3d",
           "visible": false
          },
          {
           "type": "scatter3d",
           "visible": false
          },
          {
           "type": "scatter3d",
           "visible": false
          },
          {
           "type": "scatter3d",
           "visible": false
          },
          {
           "type": "scatter3d",
           "visible": false
          },
          {
           "type": "scatter3d",
           "visible": false
          },
          {
           "type": "scatter3d",
           "visible": false
          },
          {
           "type": "scatter3d",
           "visible": false
          },
          {
           "type": "scatter3d",
           "visible": true
          },
          {
           "type": "scatter3d",
           "visible": true
          },
          {
           "type": "scatter3d",
           "visible": true
          }
         ],
         "name": "Final Orthogonal Basis"
        }
       ],
       "layout": {
        "legend": {
         "x": 0,
         "y": 1
        },
        "scene": {
         "aspectmode": "data",
         "xaxis": {
          "title": {
           "text": "X"
          }
         },
         "yaxis": {
          "title": {
           "text": "Y"
          }
         },
         "zaxis": {
          "title": {
           "text": "Z"
          }
         }
        },
        "sliders": [
         {
          "steps": [
           {
            "args": [
             [
              "Initial Vectors"
             ]
            ],
            "label": "Initial Vectors",
            "method": "animate"
           },
           {
            "args": [
             [
              "Project u2 on v1"
             ]
            ],
            "label": "Project u2 on v1",
            "method": "animate"
           },
           {
            "args": [
             [
              "Compute v2"
             ]
            ],
            "label": "Compute v2",
            "method": "animate"
           },
           {
            "args": [
             [
              "First Two Orthogonal Vectors"
             ]
            ],
            "label": "First Two Orthogonal Vectors",
            "method": "animate"
           },
           {
            "args": [
             [
              "Project u3 on v1 & v2"
             ]
            ],
            "label": "Project u3 on v1 & v2",
            "method": "animate"
           },
           {
            "args": [
             [
              "Sum of Projections"
             ]
            ],
            "label": "Sum of Projections",
            "method": "animate"
           },
           {
            "args": [
             [
              "Compute v3"
             ]
            ],
            "label": "Compute v3",
            "method": "animate"
           },
           {
            "args": [
             [
              "Final Orthogonal Basis"
             ]
            ],
            "label": "Final Orthogonal Basis",
            "method": "animate"
           }
          ]
         }
        ],
        "template": {
         "data": {
          "bar": [
           {
            "error_x": {
             "color": "#2a3f5f"
            },
            "error_y": {
             "color": "#2a3f5f"
            },
            "marker": {
             "line": {
              "color": "#E5ECF6",
              "width": 0.5
             },
             "pattern": {
              "fillmode": "overlay",
              "size": 10,
              "solidity": 0.2
             }
            },
            "type": "bar"
           }
          ],
          "barpolar": [
           {
            "marker": {
             "line": {
              "color": "#E5ECF6",
              "width": 0.5
             },
             "pattern": {
              "fillmode": "overlay",
              "size": 10,
              "solidity": 0.2
             }
            },
            "type": "barpolar"
           }
          ],
          "carpet": [
           {
            "aaxis": {
             "endlinecolor": "#2a3f5f",
             "gridcolor": "white",
             "linecolor": "white",
             "minorgridcolor": "white",
             "startlinecolor": "#2a3f5f"
            },
            "baxis": {
             "endlinecolor": "#2a3f5f",
             "gridcolor": "white",
             "linecolor": "white",
             "minorgridcolor": "white",
             "startlinecolor": "#2a3f5f"
            },
            "type": "carpet"
           }
          ],
          "choropleth": [
           {
            "colorbar": {
             "outlinewidth": 0,
             "ticks": ""
            },
            "type": "choropleth"
           }
          ],
          "contour": [
           {
            "colorbar": {
             "outlinewidth": 0,
             "ticks": ""
            },
            "colorscale": [
             [
              0,
              "#0d0887"
             ],
             [
              0.1111111111111111,
              "#46039f"
             ],
             [
              0.2222222222222222,
              "#7201a8"
             ],
             [
              0.3333333333333333,
              "#9c179e"
             ],
             [
              0.4444444444444444,
              "#bd3786"
             ],
             [
              0.5555555555555556,
              "#d8576b"
             ],
             [
              0.6666666666666666,
              "#ed7953"
             ],
             [
              0.7777777777777778,
              "#fb9f3a"
             ],
             [
              0.8888888888888888,
              "#fdca26"
             ],
             [
              1,
              "#f0f921"
             ]
            ],
            "type": "contour"
           }
          ],
          "contourcarpet": [
           {
            "colorbar": {
             "outlinewidth": 0,
             "ticks": ""
            },
            "type": "contourcarpet"
           }
          ],
          "heatmap": [
           {
            "colorbar": {
             "outlinewidth": 0,
             "ticks": ""
            },
            "colorscale": [
             [
              0,
              "#0d0887"
             ],
             [
              0.1111111111111111,
              "#46039f"
             ],
             [
              0.2222222222222222,
              "#7201a8"
             ],
             [
              0.3333333333333333,
              "#9c179e"
             ],
             [
              0.4444444444444444,
              "#bd3786"
             ],
             [
              0.5555555555555556,
              "#d8576b"
             ],
             [
              0.6666666666666666,
              "#ed7953"
             ],
             [
              0.7777777777777778,
              "#fb9f3a"
             ],
             [
              0.8888888888888888,
              "#fdca26"
             ],
             [
              1,
              "#f0f921"
             ]
            ],
            "type": "heatmap"
           }
          ],
          "histogram": [
           {
            "marker": {
             "pattern": {
              "fillmode": "overlay",
              "size": 10,
              "solidity": 0.2
             }
            },
            "type": "histogram"
           }
          ],
          "histogram2d": [
           {
            "colorbar": {
             "outlinewidth": 0,
             "ticks": ""
            },
            "colorscale": [
             [
              0,
              "#0d0887"
             ],
             [
              0.1111111111111111,
              "#46039f"
             ],
             [
              0.2222222222222222,
              "#7201a8"
             ],
             [
              0.3333333333333333,
              "#9c179e"
             ],
             [
              0.4444444444444444,
              "#bd3786"
             ],
             [
              0.5555555555555556,
              "#d8576b"
             ],
             [
              0.6666666666666666,
              "#ed7953"
             ],
             [
              0.7777777777777778,
              "#fb9f3a"
             ],
             [
              0.8888888888888888,
              "#fdca26"
             ],
             [
              1,
              "#f0f921"
             ]
            ],
            "type": "histogram2d"
           }
          ],
          "histogram2dcontour": [
           {
            "colorbar": {
             "outlinewidth": 0,
             "ticks": ""
            },
            "colorscale": [
             [
              0,
              "#0d0887"
             ],
             [
              0.1111111111111111,
              "#46039f"
             ],
             [
              0.2222222222222222,
              "#7201a8"
             ],
             [
              0.3333333333333333,
              "#9c179e"
             ],
             [
              0.4444444444444444,
              "#bd3786"
             ],
             [
              0.5555555555555556,
              "#d8576b"
             ],
             [
              0.6666666666666666,
              "#ed7953"
             ],
             [
              0.7777777777777778,
              "#fb9f3a"
             ],
             [
              0.8888888888888888,
              "#fdca26"
             ],
             [
              1,
              "#f0f921"
             ]
            ],
            "type": "histogram2dcontour"
           }
          ],
          "mesh3d": [
           {
            "colorbar": {
             "outlinewidth": 0,
             "ticks": ""
            },
            "type": "mesh3d"
           }
          ],
          "parcoords": [
           {
            "line": {
             "colorbar": {
              "outlinewidth": 0,
              "ticks": ""
             }
            },
            "type": "parcoords"
           }
          ],
          "pie": [
           {
            "automargin": true,
            "type": "pie"
           }
          ],
          "scatter": [
           {
            "fillpattern": {
             "fillmode": "overlay",
             "size": 10,
             "solidity": 0.2
            },
            "type": "scatter"
           }
          ],
          "scatter3d": [
           {
            "line": {
             "colorbar": {
              "outlinewidth": 0,
              "ticks": ""
             }
            },
            "marker": {
             "colorbar": {
              "outlinewidth": 0,
              "ticks": ""
             }
            },
            "type": "scatter3d"
           }
          ],
          "scattercarpet": [
           {
            "marker": {
             "colorbar": {
              "outlinewidth": 0,
              "ticks": ""
             }
            },
            "type": "scattercarpet"
           }
          ],
          "scattergeo": [
           {
            "marker": {
             "colorbar": {
              "outlinewidth": 0,
              "ticks": ""
             }
            },
            "type": "scattergeo"
           }
          ],
          "scattergl": [
           {
            "marker": {
             "colorbar": {
              "outlinewidth": 0,
              "ticks": ""
             }
            },
            "type": "scattergl"
           }
          ],
          "scattermap": [
           {
            "marker": {
             "colorbar": {
              "outlinewidth": 0,
              "ticks": ""
             }
            },
            "type": "scattermap"
           }
          ],
          "scattermapbox": [
           {
            "marker": {
             "colorbar": {
              "outlinewidth": 0,
              "ticks": ""
             }
            },
            "type": "scattermapbox"
           }
          ],
          "scatterpolar": [
           {
            "marker": {
             "colorbar": {
              "outlinewidth": 0,
              "ticks": ""
             }
            },
            "type": "scatterpolar"
           }
          ],
          "scatterpolargl": [
           {
            "marker": {
             "colorbar": {
              "outlinewidth": 0,
              "ticks": ""
             }
            },
            "type": "scatterpolargl"
           }
          ],
          "scatterternary": [
           {
            "marker": {
             "colorbar": {
              "outlinewidth": 0,
              "ticks": ""
             }
            },
            "type": "scatterternary"
           }
          ],
          "surface": [
           {
            "colorbar": {
             "outlinewidth": 0,
             "ticks": ""
            },
            "colorscale": [
             [
              0,
              "#0d0887"
             ],
             [
              0.1111111111111111,
              "#46039f"
             ],
             [
              0.2222222222222222,
              "#7201a8"
             ],
             [
              0.3333333333333333,
              "#9c179e"
             ],
             [
              0.4444444444444444,
              "#bd3786"
             ],
             [
              0.5555555555555556,
              "#d8576b"
             ],
             [
              0.6666666666666666,
              "#ed7953"
             ],
             [
              0.7777777777777778,
              "#fb9f3a"
             ],
             [
              0.8888888888888888,
              "#fdca26"
             ],
             [
              1,
              "#f0f921"
             ]
            ],
            "type": "surface"
           }
          ],
          "table": [
           {
            "cells": {
             "fill": {
              "color": "#EBF0F8"
             },
             "line": {
              "color": "white"
             }
            },
            "header": {
             "fill": {
              "color": "#C8D4E3"
             },
             "line": {
              "color": "white"
             }
            },
            "type": "table"
           }
          ]
         },
         "layout": {
          "annotationdefaults": {
           "arrowcolor": "#2a3f5f",
           "arrowhead": 0,
           "arrowwidth": 1
          },
          "autotypenumbers": "strict",
          "coloraxis": {
           "colorbar": {
            "outlinewidth": 0,
            "ticks": ""
           }
          },
          "colorscale": {
           "diverging": [
            [
             0,
             "#8e0152"
            ],
            [
             0.1,
             "#c51b7d"
            ],
            [
             0.2,
             "#de77ae"
            ],
            [
             0.3,
             "#f1b6da"
            ],
            [
             0.4,
             "#fde0ef"
            ],
            [
             0.5,
             "#f7f7f7"
            ],
            [
             0.6,
             "#e6f5d0"
            ],
            [
             0.7,
             "#b8e186"
            ],
            [
             0.8,
             "#7fbc41"
            ],
            [
             0.9,
             "#4d9221"
            ],
            [
             1,
             "#276419"
            ]
           ],
           "sequential": [
            [
             0,
             "#0d0887"
            ],
            [
             0.1111111111111111,
             "#46039f"
            ],
            [
             0.2222222222222222,
             "#7201a8"
            ],
            [
             0.3333333333333333,
             "#9c179e"
            ],
            [
             0.4444444444444444,
             "#bd3786"
            ],
            [
             0.5555555555555556,
             "#d8576b"
            ],
            [
             0.6666666666666666,
             "#ed7953"
            ],
            [
             0.7777777777777778,
             "#fb9f3a"
            ],
            [
             0.8888888888888888,
             "#fdca26"
            ],
            [
             1,
             "#f0f921"
            ]
           ],
           "sequentialminus": [
            [
             0,
             "#0d0887"
            ],
            [
             0.1111111111111111,
             "#46039f"
            ],
            [
             0.2222222222222222,
             "#7201a8"
            ],
            [
             0.3333333333333333,
             "#9c179e"
            ],
            [
             0.4444444444444444,
             "#bd3786"
            ],
            [
             0.5555555555555556,
             "#d8576b"
            ],
            [
             0.6666666666666666,
             "#ed7953"
            ],
            [
             0.7777777777777778,
             "#fb9f3a"
            ],
            [
             0.8888888888888888,
             "#fdca26"
            ],
            [
             1,
             "#f0f921"
            ]
           ]
          },
          "colorway": [
           "#636efa",
           "#EF553B",
           "#00cc96",
           "#ab63fa",
           "#FFA15A",
           "#19d3f3",
           "#FF6692",
           "#B6E880",
           "#FF97FF",
           "#FECB52"
          ],
          "font": {
           "color": "#2a3f5f"
          },
          "geo": {
           "bgcolor": "white",
           "lakecolor": "white",
           "landcolor": "#E5ECF6",
           "showlakes": true,
           "showland": true,
           "subunitcolor": "white"
          },
          "hoverlabel": {
           "align": "left"
          },
          "hovermode": "closest",
          "mapbox": {
           "style": "light"
          },
          "paper_bgcolor": "white",
          "plot_bgcolor": "#E5ECF6",
          "polar": {
           "angularaxis": {
            "gridcolor": "white",
            "linecolor": "white",
            "ticks": ""
           },
           "bgcolor": "#E5ECF6",
           "radialaxis": {
            "gridcolor": "white",
            "linecolor": "white",
            "ticks": ""
           }
          },
          "scene": {
           "xaxis": {
            "backgroundcolor": "#E5ECF6",
            "gridcolor": "white",
            "gridwidth": 2,
            "linecolor": "white",
            "showbackground": true,
            "ticks": "",
            "zerolinecolor": "white"
           },
           "yaxis": {
            "backgroundcolor": "#E5ECF6",
            "gridcolor": "white",
            "gridwidth": 2,
            "linecolor": "white",
            "showbackground": true,
            "ticks": "",
            "zerolinecolor": "white"
           },
           "zaxis": {
            "backgroundcolor": "#E5ECF6",
            "gridcolor": "white",
            "gridwidth": 2,
            "linecolor": "white",
            "showbackground": true,
            "ticks": "",
            "zerolinecolor": "white"
           }
          },
          "shapedefaults": {
           "line": {
            "color": "#2a3f5f"
           }
          },
          "ternary": {
           "aaxis": {
            "gridcolor": "white",
            "linecolor": "white",
            "ticks": ""
           },
           "baxis": {
            "gridcolor": "white",
            "linecolor": "white",
            "ticks": ""
           },
           "bgcolor": "#E5ECF6",
           "caxis": {
            "gridcolor": "white",
            "linecolor": "white",
            "ticks": ""
           }
          },
          "title": {
           "x": 0.05
          },
          "xaxis": {
           "automargin": true,
           "gridcolor": "white",
           "linecolor": "white",
           "ticks": "",
           "title": {
            "standoff": 15
           },
           "zerolinecolor": "white",
           "zerolinewidth": 2
          },
          "yaxis": {
           "automargin": true,
           "gridcolor": "white",
           "linecolor": "white",
           "ticks": "",
           "title": {
            "standoff": 15
           },
           "zerolinecolor": "white",
           "zerolinewidth": 2
          }
         }
        },
        "title": {
         "text": "3D Gram-Schmidt Orthogonalization"
        }
       }
      }
     },
     "metadata": {},
     "output_type": "display_data"
    }
   ],
   "source": [
    "import plotly.graph_objects as go\n",
    "import numpy as np\n",
    "\n",
    "# --- 1. Setup and Calculations ---\n",
    "\n",
    "# Start with 3 linearly independent 3D vectors\n",
    "u1 = np.array([2.0, 2.0, 0.0])\n",
    "u2 = np.array([3.0, 0.0, 1.0])\n",
    "u3 = np.array([1.0, 2.0, 3.0])\n",
    "\n",
    "# --- Step 1: Find v1 and v2 ---\n",
    "v1 = u1\n",
    "proj_u2_on_v1 = (np.dot(u2, v1) / np.dot(v1, v1)) * v1\n",
    "v2 = u2 - proj_u2_on_v1\n",
    "\n",
    "# --- Step 2: Find v3 ---\n",
    "proj_u3_on_v1 = (np.dot(u3, v1) / np.dot(v1, v1)) * v1\n",
    "proj_u3_on_v2 = (np.dot(u3, v2) / np.dot(v2, v2)) * v2\n",
    "proj_sum = proj_u3_on_v1 + proj_u3_on_v2 # This is the projection of u3 onto the plane spanned by v1 and v2\n",
    "v3 = u3 - proj_sum\n",
    "\n",
    "# --- 2. Create All Plot Components (Traces) ---\n",
    "\n",
    "def vector_trace(vec, name, color, dash=None, width=None):\n",
    "    return go.Scatter3d(x=[0, vec[0]], y=[0, vec[1]], z=[0, vec[2]],\n",
    "                       mode='lines', name=name,\n",
    "                       line=dict(color=color, dash=dash, width=width or 7))\n",
    "\n",
    "def helper_line_trace(p1, p2, color='grey'):\n",
    "    return go.Scatter3d(x=[p1[0], p2[0]], y=[p1[1], p2[1]], z=[p1[2], p2[2]],\n",
    "                       mode='lines', line=dict(color=color, dash='dot'), showlegend=False)\n",
    "\n",
    "traces = []\n",
    "# Initial vectors\n",
    "traces.append(vector_trace(u1, 'u1', 'blue'))\n",
    "traces.append(vector_trace(u2, 'u2', 'green'))\n",
    "traces.append(vector_trace(u3, 'u3', 'goldenrod'))\n",
    "# v1, v2 process\n",
    "traces.append(vector_trace(proj_u2_on_v1, 'proj(u2 on v1)', 'red', 'dash'))\n",
    "traces.append(vector_trace(v2, 'v2', 'purple'))\n",
    "traces.append(helper_line_trace(u2, proj_u2_on_v1))\n",
    "# v3 process\n",
    "traces.append(vector_trace(proj_u3_on_v1, 'proj(u3 on v1)', 'red', 'dash'))\n",
    "traces.append(vector_trace(proj_u3_on_v2, 'proj(u3 on v2)', 'orange', 'dash'))\n",
    "traces.append(vector_trace(proj_sum, 'sum of projs', 'magenta', 'dash'))\n",
    "traces.append(vector_trace(v3, 'v3', 'cyan'))\n",
    "traces.append(helper_line_trace(u3, proj_sum))\n",
    "traces.append(helper_line_trace(proj_u3_on_v1, proj_sum))\n",
    "traces.append(helper_line_trace(proj_u3_on_v2, proj_sum))\n",
    "# Final basis\n",
    "traces.append(vector_trace(v1, 'v1 (final)', 'blue', width=10))\n",
    "traces.append(vector_trace(v2, 'v2 (final)', 'purple', width=10))\n",
    "traces.append(vector_trace(v3, 'v3 (final)', 'cyan', width=10))\n",
    "\n",
    "# --- 3. Define Animation Frames ---\n",
    "# Each list defines the visibility of the traces above\n",
    "frame_visibility = [\n",
    "    [1,1,1, 0,0,0, 0,0,0,0,0,0,0, 0,0,0], # Initial u1, u2, u3\n",
    "    [1,1,0, 1,0,1, 0,0,0,0,0,0,0, 0,0,0], # Find proj(u2 on v1)\n",
    "    [1,1,0, 1,1,1, 0,0,0,0,0,0,0, 0,0,0], # Find v2 = u2 - proj\n",
    "    [1,0,0, 0,1,0, 0,0,0,0,0,0,0, 0,0,0], # Show v1, v2\n",
    "    [1,0,1, 0,1,0, 1,1,0,0,0,0,0, 0,0,0], # Show u3 and its projections on v1, v2\n",
    "    [1,0,1, 0,1,0, 1,1,1,0,0,1,1, 0,0,0], # Show sum of projections\n",
    "    [1,0,1, 0,1,0, 0,0,1,1,1,0,0, 0,0,0], # Find v3 = u3 - sum_proj\n",
    "    [0,0,0, 0,0,0, 0,0,0,0,0,0,0, 1,1,1], # Final Basis v1, v2, v3\n",
    "]\n",
    "frame_names = [\n",
    "    \"Initial Vectors\", \"Project u2 on v1\", \"Compute v2\", \"First Two Orthogonal Vectors\",\n",
    "    \"Project u3 on v1 & v2\", \"Sum of Projections\", \"Compute v3\", \"Final Orthogonal Basis\"\n",
    "]\n",
    "\n",
    "frames = []\n",
    "for name, vis in zip(frame_names, frame_visibility):\n",
    "    frames.append(go.Frame(name=name, data=[go.Scatter3d(visible=bool(v)) for v in vis]))\n",
    "\n",
    "# --- 4. Create Figure and Layout ---\n",
    "fig = go.Figure(data=traces, frames=frames)\n",
    "\n",
    "# Set initial visibility\n",
    "for i, v in enumerate(frame_visibility[0]):\n",
    "    fig.data[i].visible = bool(v)\n",
    "\n",
    "fig.update_layout(\n",
    "    title=\"3D Gram-Schmidt Orthogonalization\",\n",
    "    sliders=[{\n",
    "        \"steps\": [{\"label\": name, \"method\": \"animate\", \"args\": [[name]]} for name in frame_names]\n",
    "    }],\n",
    "    scene=dict(\n",
    "        xaxis=dict(title='X'),\n",
    "        yaxis=dict(title='Y'),\n",
    "        zaxis=dict(title='Z'),\n",
    "        aspectmode='data' # This ensures correct angles\n",
    "    ),\n",
    "    legend=dict(x=0, y=1)\n",
    ")\n",
    "\n",
    "fig.show()"
   ]
  },
  {
   "cell_type": "markdown",
   "id": "f223cae0-cdab-40e0-a338-111c6a157357",
   "metadata": {},
   "source": [
    "### Intuition: Why Gram-Schmidt Makes Sense in Applications\n",
    "\n",
    "### 1. Solving Linear Systems / Least Squares\n",
    "- Original vectors (equations) may overlap or point in similar directions.  \n",
    "- GS converts them into **perpendicular directions**, so each component contributes independently.  \n",
    "- **Benefit:** Projections and solutions become simple scalars along independent axes, avoiding interference between equations.\n",
    "\n",
    "### 2. Data Analysis / PCA\n",
    "- Real-world features are often correlated.  \n",
    "- GS (or orthogonalization) creates **uncorrelated axes**, letting you represent data along independent directions.  \n",
    "- **Benefit:** Easier interpretation, dimensionality reduction, and more meaningful variance analysis.\n",
    "\n",
    "### 3. Computer Graphics & Physics\n",
    "- Coordinate frames, camera directions, and rotations require **orthogonal axes**.  \n",
    "- GS ensures axes are perpendicular and independent, which is critical for consistent transformations.  \n",
    "- **Benefit:** Objects move/rotate correctly without distortion or unintended scaling.\n",
    "\n",
    "\n",
    "**Key Intuition:**  \n",
    "Gram-Schmidt removes overlaps step by step, leaving vectors that are **mutually independent**. This independence is what makes computations, interpretations, and transformations clean, stable, and intuitive across applications.\n"
   ]
  }
 ],
 "metadata": {
  "kernelspec": {
   "display_name": "Python 3 (ipykernel)",
   "language": "python",
   "name": "python3"
  },
  "language_info": {
   "codemirror_mode": {
    "name": "ipython",
    "version": 3
   },
   "file_extension": ".py",
   "mimetype": "text/x-python",
   "name": "python",
   "nbconvert_exporter": "python",
   "pygments_lexer": "ipython3",
   "version": "3.12.7"
  }
 },
 "nbformat": 4,
 "nbformat_minor": 5
}
