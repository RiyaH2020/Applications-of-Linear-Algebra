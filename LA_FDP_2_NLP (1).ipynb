{
 "cells": [
  {
   "cell_type": "markdown",
   "id": "4d60dbb2-3ea6-460d-ba77-a4362fe99136",
   "metadata": {},
   "source": [
    "## Linear Dependence in Word Embeddings\n",
    "\n",
    "In linear algebra, a set of vectors is said to be **linearly dependent** if one of them can be written as a linear combination of the others.  \n",
    "Formally, vectors $(v_1, v_2, \\dots, v_n)$ are linearly dependent if there exist scalars $(a_1, a_2, \\dots, a_n)$, *not all zero*, such that:\n",
    "\n",
    "$$\n",
    "a_1 v_1 + a_2 v_2 + \\cdots + a_n v_n = 0\n",
    "$$\n",
    "\n",
    "\n",
    "\n",
    "\n",
    "This idea may sound abstract, but it has powerful applications.  \n",
    "In **Natural Language Processing (NLP)**, words are represented as **vectors in a high-dimensional space**.  \n",
    "These vectors often show meaningful **linear relationships**.  \n",
    "\n",
    "For example:\n",
    "\n",
    "$$\n",
    "\\text{king} - \\text{man} + \\text{woman} \\approx \\text{queen}\n",
    "$$\n",
    "This is a real-world case where linear combinations of word vectors capture semantic relationships.  \n",
    "In this demo, we’ll see how linear dependence and linear combinations appear naturally in NLP through **word embeddings**.\n"
   ]
  },
  {
   "cell_type": "markdown",
   "id": "a04d1c24-da6e-4fcb-ad14-631a89961e1e",
   "metadata": {},
   "source": [
    "### Word Embedding Models: Word2Vec and GloVe\n",
    "\n",
    "Before diving into vectors, let’s clarify what **Word2Vec** and **GloVe** mean.\n",
    "\n",
    "- **Word2Vec** (Google, 2013)  \n",
    "  - Learns embeddings by predicting the context of a word in a sentence.  \n",
    "  - Idea: *“You shall know a word by the company it keeps.”*  \n",
    "  - For example, \"cat\" and \"dog\" appear in similar contexts, so their vectors end up close in space.\n",
    "\n",
    "- **GloVe** (Stanford, 2014 — Global Vectors)  \n",
    "  - Uses word **co-occurrence statistics** across the entire corpus.  \n",
    "  - Captures ratios of probabilities, so it encodes semantic relationships like:  \n",
    "    $$\n",
    "    \\text{king} - \\text{man} + \\text{woman} \\approx \\text{queen}\n",
    "    $$\n",
    "\n",
    "Both approaches give us a **vector space of words** where linear algebra operations reveal hidden semantic structure.  \n",
    "\n",
    "In this demo, we are using **GloVe (glove-wiki-gigaword-50)**:  \n",
    "- Trained on Wikipedia + news text.  \n",
    "- Each word → 50-dimensional vector.  \n",
    "- Lightweight but good enough to demonstrate **linear dependence and combinations**.\n",
    "\n",
    "Next, let’s take a peek at the vector for a specific word, like **\"king\"**.\n"
   ]
  },
  {
   "cell_type": "code",
   "execution_count": 23,
   "id": "5da54bc9-1ad9-4b20-8581-e302b29bf10f",
   "metadata": {},
   "outputs": [
    {
     "name": "stdout",
     "output_type": "stream",
     "text": [
      "Pretrained embeddings loaded.\n",
      "Vocabulary size: 400000\n",
      "Vector dimension: 50\n"
     ]
    }
   ],
   "source": [
    "# Load pretrained embeddings (GloVe 50D)\n",
    "import gensim.downloader as api\n",
    "\n",
    "# Download and load the small GloVe model\n",
    "model = api.load(\"glove-wiki-gigaword-50\")\n",
    "\n",
    "print(\"Pretrained embeddings loaded.\")\n",
    "print(\"Vocabulary size:\", len(model.key_to_index))\n",
    "print(\"Vector dimension:\", model.vector_size)\n"
   ]
  },
  {
   "cell_type": "code",
   "execution_count": 25,
   "id": "09abcdbd-2091-4411-a839-b7b53327da36",
   "metadata": {},
   "outputs": [
    {
     "name": "stdout",
     "output_type": "stream",
     "text": [
      "Vector for 'king':\n",
      " [ 0.50451   0.68607  -0.59517  -0.022801  0.60046  -0.13498  -0.08813\n",
      "  0.47377  -0.61798  -0.31012  -0.076666  1.493    -0.034189 -0.98173\n",
      "  0.68229   0.81722  -0.51874  -0.31503  -0.55809   0.66421   0.1961\n",
      " -0.13495  -0.11476  -0.30344   0.41177  -2.223    -1.0756   -1.0783\n",
      " -0.34354   0.33505   1.9927   -0.04234  -0.64319   0.71125   0.49159\n",
      "  0.16754   0.34344  -0.25663  -0.8523    0.1661    0.40102   1.1685\n",
      " -1.0137   -0.21585  -0.15155   0.78321  -0.91241  -1.6106   -0.64426\n",
      " -0.51042 ]\n",
      "Dimension: 50\n"
     ]
    }
   ],
   "source": [
    "vector_king = model[\"king\"]\n",
    "print(\"Vector for 'king':\\n\", vector_king)\n",
    "print(\"Dimension:\", len(vector_king))\n"
   ]
  },
  {
   "cell_type": "markdown",
   "id": "0edfd9eb-0d55-423c-becb-5652867c6416",
   "metadata": {},
   "source": [
    "### What does the vector mean?\n",
    "\n",
    "Here we see the word **\"king\"** represented as a 50-dimensional vector:\n",
    "\n",
    "$$\n",
    "[0.50, \\; 0.68, \\; -0.59, \\; -0.02, \\; \\dots, \\; -0.51]\n",
    "$$\n",
    "\n",
    "- Each number is a coordinate along one axis in a 50-dimensional space.  \n",
    "- Just like in 2D or 3D, the vector tells us **where the word is located** in this high-dimensional space.  \n",
    "- The individual numbers don’t mean much on their own, but **relationships between vectors** carry meaning.\n",
    "\n",
    "For example, if two words appear in similar contexts (like *dog* and *cat*), their vectors will be **close together**.  \n",
    "If words differ systematically (like *man* vs *woman*), that difference shows up as a **direction in the vector space**.\n",
    "\n",
    "This is where **linear dependence and combinations** come in:  \n",
    "we can add, subtract, and compare word vectors just like any other vectors in linear algebra.\n"
   ]
  },
  {
   "cell_type": "code",
   "execution_count": 28,
   "id": "28ea47a9-89ec-4ea3-9570-e2ee9d028c08",
   "metadata": {},
   "outputs": [
    {
     "name": "stdout",
     "output_type": "stream",
     "text": [
      "Top 5 words similar to 'king':\n",
      "prince: 0.824\n",
      "queen: 0.784\n",
      "ii: 0.775\n",
      "emperor: 0.774\n",
      "son: 0.767\n"
     ]
    }
   ],
   "source": [
    "# Find words most similar to \"king\"\n",
    "similar_words = model.most_similar(\"king\", topn=5)\n",
    "\n",
    "print(\"Top 5 words similar to 'king':\")\n",
    "for word, score in similar_words:\n",
    "    print(f\"{word}: {score:.3f}\")\n"
   ]
  },
  {
   "cell_type": "markdown",
   "id": "2f22281d-bcef-451c-babc-209a9c60991d",
   "metadata": {},
   "source": [
    "### Similarity in the Embedding Space\n",
    "\n",
    "The model tells us that the words **closest** to \"king\" are:\n",
    "\n",
    "- prince (0.82)  \n",
    "- queen (0.78)  \n",
    "- emperor (0.77)  \n",
    "- son (0.76)  \n",
    "\n",
    "These similarity scores come from **cosine similarity** between vectors.  \n",
    "- Cosine similarity measures the **angle** between two vectors.  \n",
    "- If the angle is small (vectors point in a similar direction), the words are considered semantically similar.  \n",
    "\n",
    "In other words, words that appear in similar contexts in the training data  \n",
    "(*\"king\"* and *\"prince\"*, or *\"king\"* and *\"queen\"*)  \n",
    "end up **near each other** in this high-dimensional vector space.\n",
    "\n",
    "This shows how **linear algebra concepts like dot products and vector angles** are used in NLP.\n"
   ]
  },
  {
   "cell_type": "code",
   "execution_count": 31,
   "id": "8e7ee0d7-9415-4e6b-9e1c-2f6661018ac0",
   "metadata": {},
   "outputs": [
    {
     "name": "stdout",
     "output_type": "stream",
     "text": [
      "Dimension of v: 50\n",
      "First 10 coordinates of v:\n",
      " [ 0.417366  0.90427  -1.00503  -0.062021  0.49726   0.80667  -0.14855\n",
      "  0.80365  -0.15654  -0.66974 ]\n",
      "\n",
      "Top 10 nearest words to (king - man + woman):\n",
      "king: 0.886\n",
      "queen: 0.861\n",
      "daughter: 0.768\n",
      "prince: 0.764\n",
      "throne: 0.763\n",
      "princess: 0.751\n",
      "elizabeth: 0.751\n",
      "father: 0.731\n",
      "kingdom: 0.730\n",
      "mother: 0.728\n",
      "\n",
      "Cosine similarity of v with specific candidates:\n",
      "queen: 0.861\n",
      "prince: 0.764\n",
      "throne: 0.763\n",
      "daughter: 0.768\n",
      "elizabeth: 0.751\n"
     ]
    }
   ],
   "source": [
    "import numpy as np\n",
    "\n",
    "v = model[\"king\"] - model[\"man\"] + model[\"woman\"]\n",
    "\n",
    "# Inspect the derived vector\n",
    "print(\"Dimension of v:\", v.shape[0])\n",
    "print(\"First 10 coordinates of v:\\n\", np.round(v[:10], 6))\n",
    "\n",
    "# Find nearest words to this *vector* (not to a word key)\n",
    "nearest = model.similar_by_vector(v, topn=10)\n",
    "print(\"\\nTop 10 nearest words to (king - man + woman):\")\n",
    "for w, s in nearest:\n",
    "    print(f\"{w}: {s:.3f}\")\n",
    "\n",
    "# (Optional sanity) Compare cosine with a few candidates explicitly\n",
    "def cosine(u, w):\n",
    "    return float(np.dot(u, w) / (np.linalg.norm(u) * np.linalg.norm(w)))\n",
    "\n",
    "cand = [\"queen\", \"prince\", \"throne\", \"daughter\", \"elizabeth\"]\n",
    "print(\"\\nCosine similarity of v with specific candidates:\")\n",
    "for c in cand:\n",
    "    print(f\"{c}: {cosine(v, model[c]):.3f}\")\n"
   ]
  },
  {
   "cell_type": "markdown",
   "id": "1e30c853-ce62-4f2e-8471-e67129914879",
   "metadata": {},
   "source": [
    "### Linear Combinations in Action\n",
    "\n",
    "Our calculation:\n",
    "\n",
    "$$\n",
    "\\text{king} - \\text{man} + \\text{woman} \\approx \\text{queen}\n",
    "$$\n",
    "\n",
    "worked beautifully!\n",
    "\n",
    "But what’s really happening?\n",
    "\n",
    "- Each word is a vector in a **high-dimensional space**.  \n",
    "- Subtracting **\"man\"** from **\"king\"** gives us the \"royalty without gender\" direction.  \n",
    "- Adding **\"woman\"** moves us along the \"female\" direction.  \n",
    "- The resulting vector points closest to **\"queen\"** in the embedding space.\n",
    "\n",
    "This is a perfect example of how **linear algebra concepts**—linear combinations and directions in vector spaces—can capture semantic meaning in natural language.\n",
    "\n",
    "It also shows that the vectors are not random:  \n",
    "they encode **structured dependencies** that let us move through the space in meaningful ways.\n"
   ]
  },
  {
   "cell_type": "code",
   "execution_count": 34,
   "id": "d57d4c6e-b5c1-4412-b083-b12033387558",
   "metadata": {},
   "outputs": [
    {
     "name": "stdout",
     "output_type": "stream",
     "text": [
      "baseball: 0.7155\n",
      "football: 0.6964\n",
      "soccer: 0.6914\n",
      "club: 0.6614\n",
      "franchise: 0.6608\n",
      "sports: 0.6593\n",
      "league: 0.6420\n",
      "fame: 0.6336\n",
      "nfl: 0.6295\n",
      "leagues: 0.6282\n"
     ]
    }
   ],
   "source": [
    "# Analogy: cricket - India + United_States\n",
    "result = model.most_similar(positive=[\"cricket\", \"america\"], negative=[\"india\"], topn=10)\n",
    "\n",
    "for word, score in result:\n",
    "    print(f\"{word}: {score:.4f}\")\n"
   ]
  },
  {
   "cell_type": "markdown",
   "id": "719a882b-7b88-4508-ac23-939e6dd5b607",
   "metadata": {},
   "source": [
    "## Visualizing Word Embeddings as Vectors\n",
    "\n",
    "Word embeddings map words to high-dimensional vectors.  \n",
    "We can use **dimensionality reduction** to project them into 2D space for visualization:\n",
    "\n",
    "- The query `cricket - India + USA` produces a vector in embedding space.\n",
    "- We will plot the original words and the resulting similar words as points.\n",
    "- The relative positions illustrate **semantic relationships** between words as geometric relationships.\n"
   ]
  },
  {
   "cell_type": "code",
   "execution_count": 37,
   "id": "dde0adba-dee8-4aef-a0a3-d7b90ff734cf",
   "metadata": {},
   "outputs": [
    {
     "data": {
      "image/png": "[encoded data removed]",
      "text/plain": [
       "<Figure size 800x600 with 1 Axes>"
      ]
     },
     "metadata": {},
     "output_type": "display_data"
    }
   ],
   "source": [
    "import matplotlib.pyplot as plt\n",
    "from sklearn.decomposition import PCA\n",
    "\n",
    "# Words to visualize\n",
    "words_to_plot = [\"cricket\", \"india\", \"america\"] + [word for word, _ in result]\n",
    "\n",
    "# Get embeddings\n",
    "word_vectors = [model[word] for word in words_to_plot]\n",
    "\n",
    "# Reduce to 2D using PCA\n",
    "pca = PCA(n_components=2)\n",
    "vectors_2d = pca.fit_transform(word_vectors)\n",
    "\n",
    "# Plot\n",
    "plt.figure(figsize=(8,6))\n",
    "for i, word in enumerate(words_to_plot):\n",
    "    x, y = vectors_2d[i]\n",
    "    plt.scatter(x, y, marker='o', color='red' if word in [\"cricket\", \"india\", \"america\"] else 'blue')\n",
    "    plt.text(x+0.01, y+0.01, word, fontsize=9)\n",
    "\n",
    "plt.title(\"Word Embeddings Projected to 2D (PCA)\")\n",
    "plt.xlabel(\"PC1\")\n",
    "plt.ylabel(\"PC2\")\n",
    "plt.grid(True)\n",
    "plt.show()\n"
   ]
  },
  {
   "cell_type": "code",
   "execution_count": null,
   "id": "87c96d34-6048-4c58-aac8-cab16e18804c",
   "metadata": {},
   "outputs": [],
   "source": []
  }
 ],
 "metadata": {
  "kernelspec": {
   "display_name": "Python 3 (ipykernel)",
   "language": "python",
   "name": "python3"
  },
  "language_info": {
   "codemirror_mode": {
    "name": "ipython",
    "version": 3
   },
   "file_extension": ".py",
   "mimetype": "text/x-python",
   "name": "python",
   "nbconvert_exporter": "python",
   "pygments_lexer": "ipython3",
   "version": "3.12.7"
  }
 },
 "nbformat": 4,
 "nbformat_minor": 5
}
